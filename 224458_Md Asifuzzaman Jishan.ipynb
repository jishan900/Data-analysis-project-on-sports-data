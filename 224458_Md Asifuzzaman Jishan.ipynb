{
 "cells": [
  {
   "cell_type": "markdown",
   "metadata": {},
   "source": [
    "# Final Assignment "
   ]
  },
  {
   "cell_type": "markdown",
   "metadata": {
    "pycharm": {
     "name": "#%%\n"
    }
   },
   "source": [
    "Take care, that collaboration in solving the assignment is not allowed and can lead to non-passing of the asssigment. I will check the solutions for similarities. Solve the tasks before October 30th 2022. You are only allowed to import the following modules:"
   ]
  },
  {
   "cell_type": "code",
   "execution_count": 35,
   "metadata": {},
   "outputs": [],
   "source": [
    "#Submitted by: Md Asifuzzaman Jishan\n",
    "#ID: 224458 \n",
    "\n",
    "import pandas as pd\n",
    "import numpy as np\n",
    "import matplotlib.pyplot as plt\n",
    "from tqdm import tqdm\n",
    "\n",
    "\n",
    "import statsmodels.api as sm\n",
    "import statsmodels.formula.api as smf\n",
    "\n",
    "import pickle\n",
    "\n",
    "from selenium import webdriver\n",
    "import json"
   ]
  },
  {
   "cell_type": "markdown",
   "metadata": {},
   "source": [
    "## 1. Data preprocessing and plots"
   ]
  },
  {
   "cell_type": "markdown",
   "metadata": {
    "pycharm": {
     "name": "#%% md\n"
    }
   },
   "source": [
    "**1.1** Import 'players_21.csv' as a pandas data dataframe. Define a column (\"year_born\") that contains the year of birth of each player as an integer."
   ]
  },
  {
   "cell_type": "code",
   "execution_count": 36,
   "metadata": {
    "pycharm": {
     "name": "#%%\n"
    }
   },
   "outputs": [
    {
     "data": {
      "text/html": [
       "<div>\n",
       "<style scoped>\n",
       "    .dataframe tbody tr th:only-of-type {\n",
       "        vertical-align: middle;\n",
       "    }\n",
       "\n",
       "    .dataframe tbody tr th {\n",
       "        vertical-align: top;\n",
       "    }\n",
       "\n",
       "    .dataframe thead th {\n",
       "        text-align: right;\n",
       "    }\n",
       "</style>\n",
       "<table border=\"1\" class=\"dataframe\">\n",
       "  <thead>\n",
       "    <tr style=\"text-align: right;\">\n",
       "      <th></th>\n",
       "      <th>sofifa_id</th>\n",
       "      <th>player_url</th>\n",
       "      <th>short_name</th>\n",
       "      <th>long_name</th>\n",
       "      <th>age</th>\n",
       "      <th>dob</th>\n",
       "      <th>height_cm</th>\n",
       "      <th>weight_kg</th>\n",
       "      <th>nationality</th>\n",
       "      <th>club_name</th>\n",
       "      <th>...</th>\n",
       "      <th>lwb</th>\n",
       "      <th>ldm</th>\n",
       "      <th>cdm</th>\n",
       "      <th>rdm</th>\n",
       "      <th>rwb</th>\n",
       "      <th>lb</th>\n",
       "      <th>lcb</th>\n",
       "      <th>cb</th>\n",
       "      <th>rcb</th>\n",
       "      <th>rb</th>\n",
       "    </tr>\n",
       "  </thead>\n",
       "  <tbody>\n",
       "    <tr>\n",
       "      <th>0</th>\n",
       "      <td>158023</td>\n",
       "      <td>https://sofifa.com/player/158023/lionel-messi/...</td>\n",
       "      <td>L. Messi</td>\n",
       "      <td>Lionel Andrés Messi Cuccittini</td>\n",
       "      <td>33</td>\n",
       "      <td>1987-06-24</td>\n",
       "      <td>170</td>\n",
       "      <td>72</td>\n",
       "      <td>Argentina</td>\n",
       "      <td>FC Barcelona</td>\n",
       "      <td>...</td>\n",
       "      <td>66+3</td>\n",
       "      <td>65+3</td>\n",
       "      <td>65+3</td>\n",
       "      <td>65+3</td>\n",
       "      <td>66+3</td>\n",
       "      <td>62+3</td>\n",
       "      <td>52+3</td>\n",
       "      <td>52+3</td>\n",
       "      <td>52+3</td>\n",
       "      <td>62+3</td>\n",
       "    </tr>\n",
       "    <tr>\n",
       "      <th>1</th>\n",
       "      <td>20801</td>\n",
       "      <td>https://sofifa.com/player/20801/c-ronaldo-dos-...</td>\n",
       "      <td>Cristiano Ronaldo</td>\n",
       "      <td>Cristiano Ronaldo dos Santos Aveiro</td>\n",
       "      <td>35</td>\n",
       "      <td>1985-02-05</td>\n",
       "      <td>187</td>\n",
       "      <td>83</td>\n",
       "      <td>Portugal</td>\n",
       "      <td>Juventus</td>\n",
       "      <td>...</td>\n",
       "      <td>65+3</td>\n",
       "      <td>61+3</td>\n",
       "      <td>61+3</td>\n",
       "      <td>61+3</td>\n",
       "      <td>65+3</td>\n",
       "      <td>61+3</td>\n",
       "      <td>54+3</td>\n",
       "      <td>54+3</td>\n",
       "      <td>54+3</td>\n",
       "      <td>61+3</td>\n",
       "    </tr>\n",
       "    <tr>\n",
       "      <th>2</th>\n",
       "      <td>200389</td>\n",
       "      <td>https://sofifa.com/player/200389/jan-oblak/210002</td>\n",
       "      <td>J. Oblak</td>\n",
       "      <td>Jan Oblak</td>\n",
       "      <td>27</td>\n",
       "      <td>1993-01-07</td>\n",
       "      <td>188</td>\n",
       "      <td>87</td>\n",
       "      <td>Slovenia</td>\n",
       "      <td>Atlético Madrid</td>\n",
       "      <td>...</td>\n",
       "      <td>32+3</td>\n",
       "      <td>36+3</td>\n",
       "      <td>36+3</td>\n",
       "      <td>36+3</td>\n",
       "      <td>32+3</td>\n",
       "      <td>32+3</td>\n",
       "      <td>33+3</td>\n",
       "      <td>33+3</td>\n",
       "      <td>33+3</td>\n",
       "      <td>32+3</td>\n",
       "    </tr>\n",
       "    <tr>\n",
       "      <th>3</th>\n",
       "      <td>188545</td>\n",
       "      <td>https://sofifa.com/player/188545/robert-lewand...</td>\n",
       "      <td>R. Lewandowski</td>\n",
       "      <td>Robert Lewandowski</td>\n",
       "      <td>31</td>\n",
       "      <td>1988-08-21</td>\n",
       "      <td>184</td>\n",
       "      <td>80</td>\n",
       "      <td>Poland</td>\n",
       "      <td>FC Bayern München</td>\n",
       "      <td>...</td>\n",
       "      <td>64+3</td>\n",
       "      <td>65+3</td>\n",
       "      <td>65+3</td>\n",
       "      <td>65+3</td>\n",
       "      <td>64+3</td>\n",
       "      <td>61+3</td>\n",
       "      <td>60+3</td>\n",
       "      <td>60+3</td>\n",
       "      <td>60+3</td>\n",
       "      <td>61+3</td>\n",
       "    </tr>\n",
       "    <tr>\n",
       "      <th>4</th>\n",
       "      <td>190871</td>\n",
       "      <td>https://sofifa.com/player/190871/neymar-da-sil...</td>\n",
       "      <td>Neymar Jr</td>\n",
       "      <td>Neymar da Silva Santos Júnior</td>\n",
       "      <td>28</td>\n",
       "      <td>1992-02-05</td>\n",
       "      <td>175</td>\n",
       "      <td>68</td>\n",
       "      <td>Brazil</td>\n",
       "      <td>Paris Saint-Germain</td>\n",
       "      <td>...</td>\n",
       "      <td>67+3</td>\n",
       "      <td>62+3</td>\n",
       "      <td>62+3</td>\n",
       "      <td>62+3</td>\n",
       "      <td>67+3</td>\n",
       "      <td>62+3</td>\n",
       "      <td>49+3</td>\n",
       "      <td>49+3</td>\n",
       "      <td>49+3</td>\n",
       "      <td>62+3</td>\n",
       "    </tr>\n",
       "  </tbody>\n",
       "</table>\n",
       "<p>5 rows × 106 columns</p>\n",
       "</div>"
      ],
      "text/plain": [
       "   sofifa_id                                         player_url  \\\n",
       "0     158023  https://sofifa.com/player/158023/lionel-messi/...   \n",
       "1      20801  https://sofifa.com/player/20801/c-ronaldo-dos-...   \n",
       "2     200389  https://sofifa.com/player/200389/jan-oblak/210002   \n",
       "3     188545  https://sofifa.com/player/188545/robert-lewand...   \n",
       "4     190871  https://sofifa.com/player/190871/neymar-da-sil...   \n",
       "\n",
       "          short_name                            long_name  age         dob  \\\n",
       "0           L. Messi       Lionel Andrés Messi Cuccittini   33  1987-06-24   \n",
       "1  Cristiano Ronaldo  Cristiano Ronaldo dos Santos Aveiro   35  1985-02-05   \n",
       "2           J. Oblak                            Jan Oblak   27  1993-01-07   \n",
       "3     R. Lewandowski                   Robert Lewandowski   31  1988-08-21   \n",
       "4          Neymar Jr        Neymar da Silva Santos Júnior   28  1992-02-05   \n",
       "\n",
       "   height_cm  weight_kg nationality            club_name  ...   lwb   ldm  \\\n",
       "0        170         72   Argentina         FC Barcelona  ...  66+3  65+3   \n",
       "1        187         83    Portugal             Juventus  ...  65+3  61+3   \n",
       "2        188         87    Slovenia      Atlético Madrid  ...  32+3  36+3   \n",
       "3        184         80      Poland    FC Bayern München  ...  64+3  65+3   \n",
       "4        175         68      Brazil  Paris Saint-Germain  ...  67+3  62+3   \n",
       "\n",
       "    cdm   rdm   rwb    lb   lcb    cb   rcb    rb  \n",
       "0  65+3  65+3  66+3  62+3  52+3  52+3  52+3  62+3  \n",
       "1  61+3  61+3  65+3  61+3  54+3  54+3  54+3  61+3  \n",
       "2  36+3  36+3  32+3  32+3  33+3  33+3  33+3  32+3  \n",
       "3  65+3  65+3  64+3  61+3  60+3  60+3  60+3  61+3  \n",
       "4  62+3  62+3  67+3  62+3  49+3  49+3  49+3  62+3  \n",
       "\n",
       "[5 rows x 106 columns]"
      ]
     },
     "execution_count": 36,
     "metadata": {},
     "output_type": "execute_result"
    }
   ],
   "source": [
    "#load dataset and show first 5 data\n",
    "df = pd.read_csv('C:/Users/Jishan/OneDrive - Technische Universität Dortmund/Desktop/Final Assignment/Data/players_21.csv')\n",
    "df.head(5)"
   ]
  },
  {
   "cell_type": "code",
   "execution_count": 37,
   "metadata": {},
   "outputs": [
    {
     "data": {
      "text/plain": [
       "Index(['sofifa_id', 'player_url', 'short_name', 'long_name', 'age', 'dob',\n",
       "       'height_cm', 'weight_kg', 'nationality', 'club_name',\n",
       "       ...\n",
       "       'lwb', 'ldm', 'cdm', 'rdm', 'rwb', 'lb', 'lcb', 'cb', 'rcb', 'rb'],\n",
       "      dtype='object', length=106)"
      ]
     },
     "execution_count": 37,
     "metadata": {},
     "output_type": "execute_result"
    }
   ],
   "source": [
    "df.columns = df.columns.str.strip()\n",
    "df.columns"
   ]
  },
  {
   "cell_type": "code",
   "execution_count": 38,
   "metadata": {},
   "outputs": [
    {
     "data": {
      "text/plain": [
       "0    1987-06-24\n",
       "1    1985-02-05\n",
       "2    1993-01-07\n",
       "3    1988-08-21\n",
       "4    1992-02-05\n",
       "5    1991-06-28\n",
       "6    1998-12-20\n",
       "7    1992-04-30\n",
       "8    1991-07-08\n",
       "9    1992-10-02\n",
       "Name: year_born, dtype: object"
      ]
     },
     "execution_count": 38,
     "metadata": {},
     "output_type": "execute_result"
    }
   ],
   "source": [
    "#define year_born column\n",
    "df['dob'].value_counts(dropna=True) \n",
    "value = df['dob']\n",
    "df['year_born'] = value\n",
    "df['year_born'].head(10)"
   ]
  },
  {
   "cell_type": "code",
   "execution_count": 39,
   "metadata": {},
   "outputs": [
    {
     "data": {
      "text/plain": [
       "0    19870624\n",
       "1    19850205\n",
       "2    19930107\n",
       "3    19880821\n",
       "4    19920205\n",
       "5    19910628\n",
       "6    19981220\n",
       "7    19920430\n",
       "8    19910708\n",
       "9    19921002\n",
       "Name: year_born, dtype: int32"
      ]
     },
     "execution_count": 39,
     "metadata": {},
     "output_type": "execute_result"
    }
   ],
   "source": [
    "#Convert to integer\n",
    "df['year_born'] = pd.to_datetime(df['year_born']).dt.strftime('%Y%m%d').astype(int)\n",
    "df['year_born'].head(10)"
   ]
  },
  {
   "cell_type": "markdown",
   "metadata": {
    "pycharm": {
     "name": "#%% md\n"
    }
   },
   "source": [
    "**1.2** Show the most valuable player for each nation ('nationality'). Display the position in the national team ('nation_position'), the name ('short_name'), and the market value in millions."
   ]
  },
  {
   "cell_type": "code",
   "execution_count": 40,
   "metadata": {
    "pycharm": {
     "name": "#%%\n"
    }
   },
   "outputs": [
    {
     "name": "stdout",
     "output_type": "stream",
     "text": [
      "7289     Afghanistan\n",
      "11136    Afghanistan\n",
      "13154        Albania\n",
      "14132        Albania\n",
      "17888        Albania\n",
      "Name: nationality, dtype: object\n"
     ]
    }
   ],
   "source": [
    "#Show the most valuable player for each nation ('nationality')\n",
    "df.sort_values(by=['nationality'], axis=0, ascending=True, inplace=True)\n",
    "tf = df['nationality'].head(5)\n",
    "print(tf)"
   ]
  },
  {
   "cell_type": "code",
   "execution_count": 41,
   "metadata": {},
   "outputs": [
    {
     "name": "stdout",
     "output_type": "stream",
     "text": [
      "3366    CAM\n",
      "650     CAM\n",
      "547     CAM\n",
      "Name: nation_position, dtype: object\n"
     ]
    }
   ],
   "source": [
    "#Display the position in the national team ('nation_position'), the name ('short_name'), and the market value in millions\n",
    "\n",
    "df.sort_values(by=['nation_position', 'short_name', 'value_eur'], axis=0, ascending=True, inplace=True)\n",
    "nat_position = df['nation_position'].head(3)\n",
    "print(nat_position)"
   ]
  },
  {
   "cell_type": "code",
   "execution_count": 42,
   "metadata": {},
   "outputs": [
    {
     "name": "stdout",
     "output_type": "stream",
     "text": [
      "3366    A. Bakasetas\n",
      "650      A. Carrillo\n",
      "547       A. Golovin\n",
      "Name: short_name, dtype: object\n"
     ]
    }
   ],
   "source": [
    "s_name = df['short_name'].head(3)\n",
    "print(s_name)"
   ]
  },
  {
   "cell_type": "code",
   "execution_count": 43,
   "metadata": {},
   "outputs": [
    {
     "name": "stdout",
     "output_type": "stream",
     "text": [
      "3366      3600000\n",
      "650      12500000\n",
      "547      16000000\n",
      "3562            0\n",
      "34       60000000\n",
      "           ...   \n",
      "17114      180000\n",
      "793       4900000\n",
      "17600      160000\n",
      "13994      475000\n",
      "8659       850000\n",
      "Name: value_eur, Length: 18944, dtype: int64\n"
     ]
    }
   ],
   "source": [
    "value_in_euro = df['value_eur'] \n",
    "print(value_in_euro)"
   ]
  },
  {
   "cell_type": "markdown",
   "metadata": {
    "pycharm": {
     "name": "#%% md\n"
    }
   },
   "source": [
    "**1.3** Show all Clubs ('club_name') of the \"German 1. Bundesliga\". Sort them by thier total market value ('value_eur\n",
    "')in descending order. Display the club name, the total market value and the\n",
    "size of the squad!"
   ]
  },
  {
   "cell_type": "code",
   "execution_count": 44,
   "metadata": {},
   "outputs": [
    {
     "name": "stdout",
     "output_type": "stream",
     "text": [
      "      sofifa_id                                         player_url  \\\n",
      "162      204923  https://sofifa.com/player/204923/marcel-sabitz...   \n",
      "1118     201262  https://sofifa.com/player/201262/vladimir-dari...   \n",
      "709      229237  https://sofifa.com/player/229237/manuel-akanji...   \n",
      "236      207862  https://sofifa.com/player/207862/matthias-gint...   \n",
      "1184     232999  https://sofifa.com/player/232999/tyler-adams/2...   \n",
      "191      190941  https://sofifa.com/player/190941/lukas-hradeck...   \n",
      "16       167495  https://sofifa.com/player/167495/manuel-neuer/...   \n",
      "89       185122  https://sofifa.com/player/185122/peter-gulacsi...   \n",
      "1023     104389  https://sofifa.com/player/104389/rune-almennin...   \n",
      "54       177683  https://sofifa.com/player/177683/yann-sommer/2...   \n",
      "\n",
      "       short_name                long_name  age         dob  height_cm  \\\n",
      "162   M. Sabitzer          Marcel Sabitzer   26  1994-03-17        178   \n",
      "1118    V. Darida          Vladimír Darida   29  1990-08-08        172   \n",
      "709     M. Akanji    Manuel Obafemi Akanji   24  1995-07-19        187   \n",
      "236     M. Ginter          Matthias Ginter   26  1994-01-19        191   \n",
      "1184     T. Adams              Tyler Adams   21  1999-02-14        175   \n",
      "191   L. Hrádecký           Lukáš Hrádecký   30  1989-11-24        192   \n",
      "16       M. Neuer             Manuel Neuer   34  1986-03-27        193   \n",
      "89     P. Gulácsi            Péter Gulácsi   30  1990-05-06        191   \n",
      "1023  R. Jarstein  Rune Almenning Jarstein   35  1984-09-29        190   \n",
      "54      Y. Sommer              Yann Sommer   31  1988-12-17        183   \n",
      "\n",
      "      weight_kg     nationality                 club_name  ...   ldm   cdm  \\\n",
      "162          76         Austria                RB Leipzig  ...  75+3  75+3   \n",
      "1118         67  Czech Republic                Hertha BSC  ...  73+2  73+2   \n",
      "709          91     Switzerland         Borussia Dortmund  ...  77+2  77+2   \n",
      "236          86         Germany  Borussia Mönchengladbach  ...  79+3  79+3   \n",
      "1184         72   United States                RB Leipzig  ...  75+2  75+2   \n",
      "191          82         Finland       Bayer 04 Leverkusen  ...  28+2  28+2   \n",
      "16           92         Germany         FC Bayern München  ...  42+3  42+3   \n",
      "89           86         Hungary                RB Leipzig  ...  33+2  33+2   \n",
      "1023         86          Norway                Hertha BSC  ...  29+2  29+2   \n",
      "54           79     Switzerland  Borussia Mönchengladbach  ...  34+3  34+3   \n",
      "\n",
      "       rdm   rwb    lb   lcb    cb   rcb    rb  year_born  \n",
      "162   75+3  74+3  72+3  69+3  69+3  69+3  72+3   19940317  \n",
      "1118  73+2  74+2  73+2  67+2  67+2  67+2  73+2   19900808  \n",
      "709   77+2  74+2  76+2  78+2  78+2  78+2  76+2   19950719  \n",
      "236   79+3  76+3  77+3  82+1  82+1  82+1  77+3   19940119  \n",
      "1184  75+2  72+2  73+2  73+2  73+2  73+2  73+2   19990214  \n",
      "191   28+2  26+2  25+2  25+2  25+2  25+2  25+2   19891124  \n",
      "16    42+3  36+3  34+3  34+3  34+3  34+3  34+3   19860327  \n",
      "89    33+2  31+2  30+2  33+2  33+2  33+2  30+2   19900506  \n",
      "1023  29+2  26+2  26+2  27+2  27+2  27+2  26+2   19840929  \n",
      "54    34+3  31+3  30+3  29+3  29+3  29+3  30+3   19881217  \n",
      "\n",
      "[10 rows x 107 columns]\n"
     ]
    }
   ],
   "source": [
    "df_league_bundesliga = df.loc[(df['league_name'] == 'German 1. Bundesliga')].head(10)\n",
    "print(df_league_bundesliga)"
   ]
  },
  {
   "cell_type": "code",
   "execution_count": 45,
   "metadata": {
    "pycharm": {
     "name": "#%%\n"
    }
   },
   "outputs": [
    {
     "name": "stdout",
     "output_type": "stream",
     "text": [
      "5159    Śląsk Wrocław\n",
      "6651    Śląsk Wrocław\n",
      "8710    Śląsk Wrocław\n",
      "7851    Śląsk Wrocław\n",
      "7209    Śląsk Wrocław\n",
      "Name: club_name, dtype: object\n",
      "5159    Polish T-Mobile Ekstraklasa\n",
      "6651    Polish T-Mobile Ekstraklasa\n",
      "8710    Polish T-Mobile Ekstraklasa\n",
      "7851    Polish T-Mobile Ekstraklasa\n",
      "7209    Polish T-Mobile Ekstraklasa\n",
      "Name: league_name, dtype: object\n",
      "5159    1900000\n",
      "6651    1000000\n",
      "8710     925000\n",
      "7851     800000\n",
      "7209     775000\n",
      "Name: value_eur, dtype: int64\n",
      "5159    RM, ST, LM\n",
      "6651            RB\n",
      "8710            ST\n",
      "7851            CB\n",
      "7209       RM, CAM\n",
      "Name: player_positions, dtype: object\n"
     ]
    }
   ],
   "source": [
    "dis_value = df.sort_values(by=['club_name', 'league_name', 'value_eur', 'player_positions'], axis=0, ascending=False, inplace=True)\n",
    "df_clubs = df['club_name'].head(5)\n",
    "print(df_clubs)\n",
    "df_teams = df['league_name'].head(5)\n",
    "print(df_teams)\n",
    "df_mark_value = df['value_eur'].head(5)\n",
    "print(df_mark_value)\n",
    "df_player_position = df['player_positions'].head(5)\n",
    "print(df_player_position)"
   ]
  },
  {
   "cell_type": "markdown",
   "metadata": {},
   "source": [
    "**1.4** Filter the dateset for the 1000 most valueable players. Create a new  Plot the minium, the mean, the 99%-quantile,  and the maximum value for each age ('age') group. (Replicate ``'age.pdf'.``)"
   ]
  },
  {
   "cell_type": "code",
   "execution_count": 46,
   "metadata": {
    "pycharm": {
     "name": "#%%\n"
    }
   },
   "outputs": [
    {
     "name": "stdout",
     "output_type": "stream",
     "text": [
      "6       105500000\n",
      "4        90000000\n",
      "5        87000000\n",
      "3        80000000\n",
      "11       78000000\n",
      "          ...    \n",
      "1221      9500000\n",
      "1216      9500000\n",
      "323       9500000\n",
      "1279      9500000\n",
      "1294      9000000\n",
      "Name: value_eur, Length: 1000, dtype: int64\n"
     ]
    }
   ],
   "source": [
    "valu_player = df.sort_values(by=['value_eur'], axis=0, ascending=False, inplace=True)\n",
    "df_mark_value1 = df['value_eur'].head(1000)\n",
    "print(df_mark_value1)"
   ]
  },
  {
   "cell_type": "code",
   "execution_count": 47,
   "metadata": {},
   "outputs": [
    {
     "data": {
      "image/png": "[encoded data removed]",
      "text/plain": [
       "<Figure size 432x288 with 1 Axes>"
      ]
     },
     "metadata": {
      "needs_background": "light"
     },
     "output_type": "display_data"
    }
   ],
   "source": [
    "mean = df[[\"age\", \"value_eur\"]].groupby('age').mean()[\"value_eur\"]\n",
    "quantile = df[[\"age\", \"value_eur\"]].groupby('age').quantile(0.99)[\"value_eur\"]\n",
    "maximum = df[[\"age\", \"value_eur\"]].groupby('age').max()[\"value_eur\"]\n",
    "minimum = df[[\"age\", \"value_eur\"]].groupby('age').min()[\"value_eur\"]\n",
    "plt.plot(minimum)\n",
    "plt.plot(mean)\n",
    "plt.plot(maximum)\n",
    "plt.plot(quantile)\n",
    "plt.xlabel('Age')\n",
    "plt.ylabel('Market value in million')\n",
    "plt.legend(['minimum', 'mean', 'maximum', '99 % quantile'])\n",
    "plt.savefig('final_plot.png')\n",
    "plt.savefig('final_plot.pdf')\n",
    "plt.show()"
   ]
  },
  {
   "cell_type": "code",
   "execution_count": 48,
   "metadata": {},
   "outputs": [
    {
     "data": {
      "image/png": "[encoded data removed]",
      "text/plain": [
       "<Figure size 432x288 with 1 Axes>"
      ]
     },
     "metadata": {
      "needs_background": "light"
     },
     "output_type": "display_data"
    }
   ],
   "source": [
    "#try for practice\n",
    "mean = df[[\"overall\", \"age\"]].groupby('overall').mean()[\"age\"]\n",
    "quantile = df[[\"overall\", \"age\"]].groupby('overall').quantile(0.99)[\"age\"]\n",
    "maximum = df[[\"overall\", \"age\"]].groupby('overall').max()[\"age\"]\n",
    "minimum = df[[\"overall\", \"age\"]].groupby('overall').min()[\"age\"]\n",
    "plt.plot(minimum)\n",
    "plt.plot(mean)\n",
    "plt.plot(maximum)\n",
    "plt.plot(quantile)\n",
    "plt.xlabel('overall')\n",
    "plt.ylabel('age')\n",
    "plt.legend(['minimum', 'mean', 'maximum', '99 % quantile'])\n",
    "plt.savefig('final_plot2.png')\n",
    "plt.savefig('final_plot2.pdf')\n",
    "plt.show()"
   ]
  },
  {
   "cell_type": "code",
   "execution_count": 49,
   "metadata": {},
   "outputs": [
    {
     "data": {
      "image/png": "[encoded data removed]",
      "text/plain": [
       "<Figure size 432x288 with 1 Axes>"
      ]
     },
     "metadata": {
      "needs_background": "light"
     },
     "output_type": "display_data"
    }
   ],
   "source": [
    "mean = df[[\"overall\", \"value_eur\"]].groupby('overall').mean()[\"value_eur\"]\n",
    "quantile = df[[\"overall\", \"value_eur\"]].groupby('overall').quantile(0.99)[\"value_eur\"]\n",
    "maximum = df[[\"overall\", \"value_eur\"]].groupby('overall').max()[\"value_eur\"]\n",
    "minimum = df[[\"overall\", \"value_eur\"]].groupby('overall').min()[\"value_eur\"]\n",
    "plt.plot(minimum)\n",
    "plt.plot(mean)\n",
    "plt.plot(maximum)\n",
    "plt.plot(quantile)\n",
    "plt.xlabel('Overall')\n",
    "plt.ylabel('value_eur')\n",
    "plt.legend(['minimum', 'mean', 'maximum', '99 % quantile'])\n",
    "plt.savefig('final_plot3.png')\n",
    "plt.savefig('final_plot3.pdf')\n",
    "plt.show()"
   ]
  },
  {
   "cell_type": "markdown",
   "metadata": {},
   "source": [
    "***1.5***  Print the the 3 most frequent jersey numbers ('team_jersey_number') for each team postion ('team_position')."
   ]
  },
  {
   "cell_type": "code",
   "execution_count": 50,
   "metadata": {},
   "outputs": [
    {
     "name": "stdout",
     "output_type": "stream",
     "text": [
      "7123     CAM\n",
      "6246     CAM\n",
      "13788    CAM\n",
      "Name: team_position, dtype: object\n",
      "7123     4.0\n",
      "6246     6.0\n",
      "13788    6.0\n",
      "Name: team_jersey_number, dtype: float64\n"
     ]
    }
   ],
   "source": [
    "j_num = df.sort_values(by=['team_position', 'team_jersey_number'], axis=0, ascending=True, inplace=True)\n",
    "df_teams11 = df['team_position'].head(3)\n",
    "print(df_teams11)\n",
    "df_teams112 = df['team_jersey_number'].head(3)\n",
    "print(df_teams112)"
   ]
  },
  {
   "cell_type": "code",
   "execution_count": 51,
   "metadata": {},
   "outputs": [
    {
     "data": {
      "text/plain": [
       "SUB    8065\n",
       "RES    3163\n",
       "GK      681\n",
       "LCB     681\n",
       "RCB     681\n",
       "Name: team_position, dtype: int64"
      ]
     },
     "execution_count": 51,
     "metadata": {},
     "output_type": "execute_result"
    }
   ],
   "source": [
    "df['team_position'].value_counts()[: 5].sort_values(ascending = False)"
   ]
  },
  {
   "cell_type": "code",
   "execution_count": 52,
   "metadata": {},
   "outputs": [
    {
     "data": {
      "text/plain": [
       "7.0     603\n",
       "11.0    601\n",
       "8.0     600\n",
       "1.0     591\n",
       "10.0    589\n",
       "5.0     587\n",
       "Name: team_jersey_number, dtype: int64"
      ]
     },
     "execution_count": 52,
     "metadata": {},
     "output_type": "execute_result"
    }
   ],
   "source": [
    "df['team_jersey_number'].value_counts()[: 5].sort_values(ascending = False)"
   ]
  },
  {
   "cell_type": "markdown",
   "metadata": {},
   "source": [
    "***1.5*** Add lines of code in the following template to replicate ``'potential.pdf'``. Explain precisely the line where dot_color is determined and why this determination is not computational efficient."
   ]
  },
  {
   "cell_type": "code",
   "execution_count": 53,
   "metadata": {
    "pycharm": {
     "name": "#%%\n"
    }
   },
   "outputs": [
    {
     "name": "stdout",
     "output_type": "stream",
     "text": [
      "[('w', 0), ('y', 1), ('c', 5), ('g', 20), ('b', 50), ('k', 100)]\n"
     ]
    },
    {
     "data": {
      "image/png": "[encoded data removed]",
      "text/plain": [
       "<Figure size 432x288 with 1 Axes>"
      ]
     },
     "metadata": {
      "needs_background": "light"
     },
     "output_type": "display_data"
    }
   ],
   "source": [
    "#Create a matrix filled with zeros and dimension 100x100\n",
    "\n",
    "matrix_dim = [100, 100]\n",
    "matrix = np.zeros((matrix_dim[0], matrix_dim[1]))\n",
    "\n",
    "for ov,pot in zip(df['overall'],df['potential']):\n",
    "    # Increase the value in the matrix in ov row and the pot column by 1\n",
    "    matrix[ov][pot] += 1 \n",
    "\n",
    "colors=[('w',0),('y',1),('c',5),('g',20),('b',50),('k',100)]\n",
    "print(colors)\n",
    "\n",
    "# Iterate over ov grid\n",
    "for ov in range(matrix_dim[0]):\n",
    "    # Iterate over pot grid\n",
    "    for pot in range(matrix_dim[1]):\n",
    "    \n",
    "        # Ignore all iterations where the count is zero\n",
    "        if(matrix[ov][pot] != 0):\n",
    "            dot_color = [color for color,value in colors if value <= matrix[ov,pot]][-1]   \n",
    "        \n",
    "            # Plot a dot with ov as x,pot as y and dot_color as color\n",
    "            plt.scatter(ov, pot, c = dot_color)\n",
    "        \n",
    "            \n",
    "#Add the x and y label\n",
    "plt.xlabel(\"Overall\")\n",
    "plt.ylabel(\"Potential\")\n",
    "#Save the figure\n",
    "plt.savefig('potential_output.pdf')\n",
    "plt.savefig('potential_output.png')"
   ]
  },
  {
   "cell_type": "markdown",
   "metadata": {},
   "source": [
    "## 2. Regression"
   ]
  },
  {
   "cell_type": "markdown",
   "metadata": {},
   "source": [
    "***2.1*** Delete all players where the value below the 25% quartile and drop all players that are not playing for a national team ('nation_position')."
   ]
  },
  {
   "cell_type": "code",
   "execution_count": 61,
   "metadata": {},
   "outputs": [
    {
     "data": {
      "text/plain": [
       "7123       875000\n",
       "6246      1000000\n",
       "13788      250000\n",
       "11570      230000\n",
       "1011     10000000\n",
       "Name: quant, dtype: int64"
      ]
     },
     "execution_count": 61,
     "metadata": {},
     "output_type": "execute_result"
    }
   ],
   "source": [
    "df['value_eur'].value_counts(dropna=True) \n",
    "quant = df['value_eur']\n",
    "df['quant'] = quant\n",
    "df['quant'].head(5)"
   ]
  },
  {
   "cell_type": "code",
   "execution_count": 62,
   "metadata": {},
   "outputs": [
    {
     "name": "stdout",
     "output_type": "stream",
     "text": [
      "300000.0\n"
     ]
    }
   ],
   "source": [
    "fs_quant = df['quant'].quantile(0.25)\n",
    "print(fs_quant)"
   ]
  },
  {
   "cell_type": "code",
   "execution_count": 63,
   "metadata": {},
   "outputs": [],
   "source": [
    "per = 25.0\n",
    "min_count =  int(((100-per)/100)*df.shape[1] + 1)\n",
    "modi_df = df.dropna( axis=0, \n",
    "                    thresh=min_count)"
   ]
  },
  {
   "cell_type": "code",
   "execution_count": 64,
   "metadata": {},
   "outputs": [
    {
     "data": {
      "text/html": [
       "<div>\n",
       "<style scoped>\n",
       "    .dataframe tbody tr th:only-of-type {\n",
       "        vertical-align: middle;\n",
       "    }\n",
       "\n",
       "    .dataframe tbody tr th {\n",
       "        vertical-align: top;\n",
       "    }\n",
       "\n",
       "    .dataframe thead th {\n",
       "        text-align: right;\n",
       "    }\n",
       "</style>\n",
       "<table border=\"1\" class=\"dataframe\">\n",
       "  <thead>\n",
       "    <tr style=\"text-align: right;\">\n",
       "      <th></th>\n",
       "      <th>sofifa_id</th>\n",
       "      <th>player_url</th>\n",
       "      <th>short_name</th>\n",
       "      <th>long_name</th>\n",
       "      <th>age</th>\n",
       "      <th>dob</th>\n",
       "      <th>height_cm</th>\n",
       "      <th>weight_kg</th>\n",
       "      <th>nationality</th>\n",
       "      <th>club_name</th>\n",
       "      <th>...</th>\n",
       "      <th>lb</th>\n",
       "      <th>lcb</th>\n",
       "      <th>cb</th>\n",
       "      <th>rcb</th>\n",
       "      <th>rb</th>\n",
       "      <th>year_born</th>\n",
       "      <th>quant</th>\n",
       "      <th>val_eur_log</th>\n",
       "      <th>predicted</th>\n",
       "      <th>residuals</th>\n",
       "    </tr>\n",
       "  </thead>\n",
       "  <tbody>\n",
       "    <tr>\n",
       "      <th>7123</th>\n",
       "      <td>204242</td>\n",
       "      <td>https://sofifa.com/player/204242/michael-barre...</td>\n",
       "      <td>M. Barreto</td>\n",
       "      <td>Michaël Barreto</td>\n",
       "      <td>29</td>\n",
       "      <td>1991-01-18</td>\n",
       "      <td>175</td>\n",
       "      <td>68</td>\n",
       "      <td>France</td>\n",
       "      <td>AC Ajaccio</td>\n",
       "      <td>...</td>\n",
       "      <td>49+2</td>\n",
       "      <td>40+2</td>\n",
       "      <td>40+2</td>\n",
       "      <td>40+2</td>\n",
       "      <td>49+2</td>\n",
       "      <td>19910118</td>\n",
       "      <td>875000</td>\n",
       "      <td>13.681979</td>\n",
       "      <td>NaN</td>\n",
       "      <td>NaN</td>\n",
       "    </tr>\n",
       "    <tr>\n",
       "      <th>6246</th>\n",
       "      <td>228908</td>\n",
       "      <td>https://sofifa.com/player/228908/jason-berthom...</td>\n",
       "      <td>J. Berthomier</td>\n",
       "      <td>Jason Berthomier</td>\n",
       "      <td>30</td>\n",
       "      <td>1990-01-06</td>\n",
       "      <td>177</td>\n",
       "      <td>74</td>\n",
       "      <td>France</td>\n",
       "      <td>Clermont Foot 63</td>\n",
       "      <td>...</td>\n",
       "      <td>62+2</td>\n",
       "      <td>58+2</td>\n",
       "      <td>58+2</td>\n",
       "      <td>58+2</td>\n",
       "      <td>62+2</td>\n",
       "      <td>19900106</td>\n",
       "      <td>1000000</td>\n",
       "      <td>13.815511</td>\n",
       "      <td>NaN</td>\n",
       "      <td>NaN</td>\n",
       "    </tr>\n",
       "    <tr>\n",
       "      <th>13788</th>\n",
       "      <td>211833</td>\n",
       "      <td>https://sofifa.com/player/211833/toni-lindenha...</td>\n",
       "      <td>T. Lindenhahn</td>\n",
       "      <td>Toni Lindenhahn</td>\n",
       "      <td>29</td>\n",
       "      <td>1990-11-15</td>\n",
       "      <td>177</td>\n",
       "      <td>79</td>\n",
       "      <td>Germany</td>\n",
       "      <td>Hallescher FC</td>\n",
       "      <td>...</td>\n",
       "      <td>65+</td>\n",
       "      <td>62+0</td>\n",
       "      <td>62+0</td>\n",
       "      <td>62+0</td>\n",
       "      <td>65+</td>\n",
       "      <td>19901115</td>\n",
       "      <td>250000</td>\n",
       "      <td>12.429216</td>\n",
       "      <td>NaN</td>\n",
       "      <td>NaN</td>\n",
       "    </tr>\n",
       "    <tr>\n",
       "      <th>11570</th>\n",
       "      <td>179579</td>\n",
       "      <td>https://sofifa.com/player/179579/tomasz-nowak/...</td>\n",
       "      <td>T. Nowak</td>\n",
       "      <td>Tomasz Nowak</td>\n",
       "      <td>34</td>\n",
       "      <td>1985-10-30</td>\n",
       "      <td>171</td>\n",
       "      <td>72</td>\n",
       "      <td>Poland</td>\n",
       "      <td>Podbeskidzie Bielsko-Biała</td>\n",
       "      <td>...</td>\n",
       "      <td>54+2</td>\n",
       "      <td>52+2</td>\n",
       "      <td>52+2</td>\n",
       "      <td>52+2</td>\n",
       "      <td>54+2</td>\n",
       "      <td>19851030</td>\n",
       "      <td>230000</td>\n",
       "      <td>12.345835</td>\n",
       "      <td>NaN</td>\n",
       "      <td>NaN</td>\n",
       "    </tr>\n",
       "    <tr>\n",
       "      <th>1011</th>\n",
       "      <td>212207</td>\n",
       "      <td>https://sofifa.com/player/212207/nicolae-stanc...</td>\n",
       "      <td>N. Stanciu</td>\n",
       "      <td>Nicolae Claudiu Stanciu</td>\n",
       "      <td>27</td>\n",
       "      <td>1993-05-07</td>\n",
       "      <td>170</td>\n",
       "      <td>63</td>\n",
       "      <td>Romania</td>\n",
       "      <td>SK Slavia Praha</td>\n",
       "      <td>...</td>\n",
       "      <td>64+2</td>\n",
       "      <td>58+2</td>\n",
       "      <td>58+2</td>\n",
       "      <td>58+2</td>\n",
       "      <td>64+2</td>\n",
       "      <td>19930507</td>\n",
       "      <td>10000000</td>\n",
       "      <td>16.118096</td>\n",
       "      <td>NaN</td>\n",
       "      <td>NaN</td>\n",
       "    </tr>\n",
       "    <tr>\n",
       "      <th>...</th>\n",
       "      <td>...</td>\n",
       "      <td>...</td>\n",
       "      <td>...</td>\n",
       "      <td>...</td>\n",
       "      <td>...</td>\n",
       "      <td>...</td>\n",
       "      <td>...</td>\n",
       "      <td>...</td>\n",
       "      <td>...</td>\n",
       "      <td>...</td>\n",
       "      <td>...</td>\n",
       "      <td>...</td>\n",
       "      <td>...</td>\n",
       "      <td>...</td>\n",
       "      <td>...</td>\n",
       "      <td>...</td>\n",
       "      <td>...</td>\n",
       "      <td>...</td>\n",
       "      <td>...</td>\n",
       "      <td>...</td>\n",
       "      <td>...</td>\n",
       "    </tr>\n",
       "    <tr>\n",
       "      <th>3989</th>\n",
       "      <td>221865</td>\n",
       "      <td>https://sofifa.com/player/221865/abdallah-goma...</td>\n",
       "      <td>A. Gomaa</td>\n",
       "      <td>Abdallah Gomaa</td>\n",
       "      <td>24</td>\n",
       "      <td>1996-01-10</td>\n",
       "      <td>168</td>\n",
       "      <td>64</td>\n",
       "      <td>Egypt</td>\n",
       "      <td>NaN</td>\n",
       "      <td>...</td>\n",
       "      <td>69+2</td>\n",
       "      <td>64+2</td>\n",
       "      <td>64+2</td>\n",
       "      <td>64+2</td>\n",
       "      <td>69+2</td>\n",
       "      <td>19960110</td>\n",
       "      <td>0</td>\n",
       "      <td>-inf</td>\n",
       "      <td>NaN</td>\n",
       "      <td>NaN</td>\n",
       "    </tr>\n",
       "    <tr>\n",
       "      <th>5356</th>\n",
       "      <td>233437</td>\n",
       "      <td>https://sofifa.com/player/233437/sifiso-hlanti...</td>\n",
       "      <td>S. Hlanti</td>\n",
       "      <td>Sfiso Sandile Hlanti</td>\n",
       "      <td>30</td>\n",
       "      <td>1990-05-01</td>\n",
       "      <td>182</td>\n",
       "      <td>78</td>\n",
       "      <td>South Africa</td>\n",
       "      <td>NaN</td>\n",
       "      <td>...</td>\n",
       "      <td>68+2</td>\n",
       "      <td>66+2</td>\n",
       "      <td>66+2</td>\n",
       "      <td>66+2</td>\n",
       "      <td>68+2</td>\n",
       "      <td>19900501</td>\n",
       "      <td>0</td>\n",
       "      <td>-inf</td>\n",
       "      <td>NaN</td>\n",
       "      <td>NaN</td>\n",
       "    </tr>\n",
       "    <tr>\n",
       "      <th>14530</th>\n",
       "      <td>251743</td>\n",
       "      <td>https://sofifa.com/player/251743/adit-ginti/21...</td>\n",
       "      <td>A. Ginti</td>\n",
       "      <td>Adit Ginti</td>\n",
       "      <td>26</td>\n",
       "      <td>1993-08-10</td>\n",
       "      <td>170</td>\n",
       "      <td>69</td>\n",
       "      <td>India</td>\n",
       "      <td>NaN</td>\n",
       "      <td>...</td>\n",
       "      <td>59+2</td>\n",
       "      <td>55+2</td>\n",
       "      <td>55+2</td>\n",
       "      <td>55+2</td>\n",
       "      <td>59+2</td>\n",
       "      <td>19930810</td>\n",
       "      <td>0</td>\n",
       "      <td>-inf</td>\n",
       "      <td>NaN</td>\n",
       "      <td>NaN</td>\n",
       "    </tr>\n",
       "    <tr>\n",
       "      <th>499</th>\n",
       "      <td>245308</td>\n",
       "      <td>https://sofifa.com/player/245308/mauro-evidio-...</td>\n",
       "      <td>M. Nérez</td>\n",
       "      <td>Mauro Evidio Nérez</td>\n",
       "      <td>32</td>\n",
       "      <td>1988-02-29</td>\n",
       "      <td>178</td>\n",
       "      <td>69</td>\n",
       "      <td>Uruguay</td>\n",
       "      <td>NaN</td>\n",
       "      <td>...</td>\n",
       "      <td>78+2</td>\n",
       "      <td>75+2</td>\n",
       "      <td>75+2</td>\n",
       "      <td>75+2</td>\n",
       "      <td>78+2</td>\n",
       "      <td>19880229</td>\n",
       "      <td>0</td>\n",
       "      <td>-inf</td>\n",
       "      <td>NaN</td>\n",
       "      <td>NaN</td>\n",
       "    </tr>\n",
       "    <tr>\n",
       "      <th>17061</th>\n",
       "      <td>251749</td>\n",
       "      <td>https://sofifa.com/player/251749/omesh-patla/2...</td>\n",
       "      <td>O. Patla</td>\n",
       "      <td>Omesh Patla</td>\n",
       "      <td>27</td>\n",
       "      <td>1992-10-13</td>\n",
       "      <td>167</td>\n",
       "      <td>69</td>\n",
       "      <td>India</td>\n",
       "      <td>NaN</td>\n",
       "      <td>...</td>\n",
       "      <td>56+2</td>\n",
       "      <td>50+2</td>\n",
       "      <td>50+2</td>\n",
       "      <td>50+2</td>\n",
       "      <td>56+2</td>\n",
       "      <td>19921013</td>\n",
       "      <td>0</td>\n",
       "      <td>-inf</td>\n",
       "      <td>NaN</td>\n",
       "      <td>NaN</td>\n",
       "    </tr>\n",
       "  </tbody>\n",
       "</table>\n",
       "<p>18944 rows × 111 columns</p>\n",
       "</div>"
      ],
      "text/plain": [
       "       sofifa_id                                         player_url  \\\n",
       "7123      204242  https://sofifa.com/player/204242/michael-barre...   \n",
       "6246      228908  https://sofifa.com/player/228908/jason-berthom...   \n",
       "13788     211833  https://sofifa.com/player/211833/toni-lindenha...   \n",
       "11570     179579  https://sofifa.com/player/179579/tomasz-nowak/...   \n",
       "1011      212207  https://sofifa.com/player/212207/nicolae-stanc...   \n",
       "...          ...                                                ...   \n",
       "3989      221865  https://sofifa.com/player/221865/abdallah-goma...   \n",
       "5356      233437  https://sofifa.com/player/233437/sifiso-hlanti...   \n",
       "14530     251743  https://sofifa.com/player/251743/adit-ginti/21...   \n",
       "499       245308  https://sofifa.com/player/245308/mauro-evidio-...   \n",
       "17061     251749  https://sofifa.com/player/251749/omesh-patla/2...   \n",
       "\n",
       "          short_name                long_name  age         dob  height_cm  \\\n",
       "7123      M. Barreto          Michaël Barreto   29  1991-01-18        175   \n",
       "6246   J. Berthomier         Jason Berthomier   30  1990-01-06        177   \n",
       "13788  T. Lindenhahn          Toni Lindenhahn   29  1990-11-15        177   \n",
       "11570       T. Nowak             Tomasz Nowak   34  1985-10-30        171   \n",
       "1011      N. Stanciu  Nicolae Claudiu Stanciu   27  1993-05-07        170   \n",
       "...              ...                      ...  ...         ...        ...   \n",
       "3989        A. Gomaa           Abdallah Gomaa   24  1996-01-10        168   \n",
       "5356       S. Hlanti     Sfiso Sandile Hlanti   30  1990-05-01        182   \n",
       "14530       A. Ginti               Adit Ginti   26  1993-08-10        170   \n",
       "499         M. Nérez       Mauro Evidio Nérez   32  1988-02-29        178   \n",
       "17061       O. Patla              Omesh Patla   27  1992-10-13        167   \n",
       "\n",
       "       weight_kg   nationality                   club_name  ...    lb   lcb  \\\n",
       "7123          68        France                  AC Ajaccio  ...  49+2  40+2   \n",
       "6246          74        France            Clermont Foot 63  ...  62+2  58+2   \n",
       "13788         79       Germany               Hallescher FC  ...   65+  62+0   \n",
       "11570         72        Poland  Podbeskidzie Bielsko-Biała  ...  54+2  52+2   \n",
       "1011          63       Romania             SK Slavia Praha  ...  64+2  58+2   \n",
       "...          ...           ...                         ...  ...   ...   ...   \n",
       "3989          64         Egypt                         NaN  ...  69+2  64+2   \n",
       "5356          78  South Africa                         NaN  ...  68+2  66+2   \n",
       "14530         69         India                         NaN  ...  59+2  55+2   \n",
       "499           69       Uruguay                         NaN  ...  78+2  75+2   \n",
       "17061         69         India                         NaN  ...  56+2  50+2   \n",
       "\n",
       "         cb   rcb    rb  year_born     quant val_eur_log  predicted  residuals  \n",
       "7123   40+2  40+2  49+2   19910118    875000   13.681979        NaN        NaN  \n",
       "6246   58+2  58+2  62+2   19900106   1000000   13.815511        NaN        NaN  \n",
       "13788  62+0  62+0   65+   19901115    250000   12.429216        NaN        NaN  \n",
       "11570  52+2  52+2  54+2   19851030    230000   12.345835        NaN        NaN  \n",
       "1011   58+2  58+2  64+2   19930507  10000000   16.118096        NaN        NaN  \n",
       "...     ...   ...   ...        ...       ...         ...        ...        ...  \n",
       "3989   64+2  64+2  69+2   19960110         0        -inf        NaN        NaN  \n",
       "5356   66+2  66+2  68+2   19900501         0        -inf        NaN        NaN  \n",
       "14530  55+2  55+2  59+2   19930810         0        -inf        NaN        NaN  \n",
       "499    75+2  75+2  78+2   19880229         0        -inf        NaN        NaN  \n",
       "17061  50+2  50+2  56+2   19921013         0        -inf        NaN        NaN  \n",
       "\n",
       "[18944 rows x 111 columns]"
      ]
     },
     "execution_count": 64,
     "metadata": {},
     "output_type": "execute_result"
    }
   ],
   "source": [
    "modi_df"
   ]
  },
  {
   "cell_type": "markdown",
   "metadata": {},
   "source": [
    "***2.2*** Regress the logarithmic player value on the overall strength ('overall') and potential ('potential') of the player.  Which player is the most overvalued (highest residual value)?"
   ]
  },
  {
   "cell_type": "code",
   "execution_count": 65,
   "metadata": {},
   "outputs": [
    {
     "name": "stderr",
     "output_type": "stream",
     "text": [
      "C:\\Users\\Jishan\\anaconda3\\lib\\site-packages\\pandas\\core\\arraylike.py:364: RuntimeWarning: divide by zero encountered in log\n",
      "  result = getattr(ufunc, method)(*inputs, **kwargs)\n"
     ]
    }
   ],
   "source": [
    "df['val_eur_log'] = np.log(df['value_eur'])"
   ]
  },
  {
   "cell_type": "code",
   "execution_count": 66,
   "metadata": {},
   "outputs": [
    {
     "data": {
      "text/plain": [
       "7123     13.681979\n",
       "6246     13.815511\n",
       "13788    12.429216\n",
       "11570    12.345835\n",
       "1011     16.118096\n",
       "           ...    \n",
       "3989          -inf\n",
       "5356          -inf\n",
       "14530         -inf\n",
       "499           -inf\n",
       "17061         -inf\n",
       "Name: val_eur_log, Length: 18944, dtype: float64"
      ]
     },
     "execution_count": 66,
     "metadata": {},
     "output_type": "execute_result"
    }
   ],
   "source": [
    "df['val_eur_log']"
   ]
  },
  {
   "cell_type": "code",
   "execution_count": 67,
   "metadata": {},
   "outputs": [
    {
     "name": "stdout",
     "output_type": "stream",
     "text": [
      "                            OLS Regression Results                            \n",
      "==============================================================================\n",
      "Dep. Variable:            val_eur_log   R-squared:                         nan\n",
      "Model:                            OLS   Adj. R-squared:                    nan\n",
      "Method:                 Least Squares   F-statistic:                       nan\n",
      "Date:                Thu, 27 Oct 2022   Prob (F-statistic):                nan\n",
      "Time:                        02:01:44   Log-Likelihood:                    nan\n",
      "No. Observations:               18944   AIC:                               nan\n",
      "Df Residuals:                   18941   BIC:                               nan\n",
      "Df Model:                           2                                         \n",
      "Covariance Type:            nonrobust                                         \n",
      "==============================================================================\n",
      "                 coef    std err          t      P>|t|      [0.025      0.975]\n",
      "------------------------------------------------------------------------------\n",
      "Intercept         nan        nan        nan        nan         nan         nan\n",
      "overall           nan        nan        nan        nan         nan         nan\n",
      "potential         nan        nan        nan        nan         nan         nan\n",
      "==============================================================================\n",
      "Omnibus:                          nan   Durbin-Watson:                     nan\n",
      "Prob(Omnibus):                    nan   Jarque-Bera (JB):                  nan\n",
      "Skew:                             nan   Prob(JB):                          nan\n",
      "Kurtosis:                         nan   Cond. No.                     1.16e+03\n",
      "==============================================================================\n",
      "\n",
      "Notes:\n",
      "[1] Standard Errors assume that the covariance matrix of the errors is correctly specified.\n",
      "[2] The condition number is large, 1.16e+03. This might indicate that there are\n",
      "strong multicollinearity or other numerical problems.\n"
     ]
    },
    {
     "name": "stderr",
     "output_type": "stream",
     "text": [
      "C:\\Users\\Jishan\\anaconda3\\lib\\site-packages\\statsmodels\\regression\\linear_model.py:1666: RuntimeWarning: invalid value encountered in subtract\n",
      "  return np.sum(weights * (model.endog - mean)**2)\n"
     ]
    }
   ],
   "source": [
    "res = smf.ols('val_eur_log ~ overall + potential', data = df).fit()\n",
    "print(res.summary())\n",
    "df['predicted']  = res.predict()\n",
    "df['residuals'] = (df['val_eur_log'] - df['predicted'])\n",
    "df.sort_values('residuals', ascending = False, inplace= True)"
   ]
  },
  {
   "cell_type": "markdown",
   "metadata": {},
   "source": [
    "***2.3*** Plot the residuals and logarithmic player value in scatter plot."
   ]
  },
  {
   "cell_type": "code",
   "execution_count": 68,
   "metadata": {},
   "outputs": [
    {
     "name": "stdout",
     "output_type": "stream",
     "text": [
      "                            OLS Regression Results                            \n",
      "==============================================================================\n",
      "Dep. Variable:            val_eur_log   R-squared:                         nan\n",
      "Model:                            OLS   Adj. R-squared:                    nan\n",
      "Method:                 Least Squares   F-statistic:                       nan\n",
      "Date:                Thu, 27 Oct 2022   Prob (F-statistic):                nan\n",
      "Time:                        02:01:45   Log-Likelihood:                    nan\n",
      "No. Observations:               18944   AIC:                               nan\n",
      "Df Residuals:                   18941   BIC:                               nan\n",
      "Df Model:                           2                                         \n",
      "Covariance Type:            nonrobust                                         \n",
      "==============================================================================\n",
      "                 coef    std err          t      P>|t|      [0.025      0.975]\n",
      "------------------------------------------------------------------------------\n",
      "Intercept         nan        nan        nan        nan         nan         nan\n",
      "overall           nan        nan        nan        nan         nan         nan\n",
      "potential         nan        nan        nan        nan         nan         nan\n",
      "==============================================================================\n",
      "Omnibus:                          nan   Durbin-Watson:                     nan\n",
      "Prob(Omnibus):                    nan   Jarque-Bera (JB):                  nan\n",
      "Skew:                             nan   Prob(JB):                          nan\n",
      "Kurtosis:                         nan   Cond. No.                     1.16e+03\n",
      "==============================================================================\n",
      "\n",
      "Notes:\n",
      "[1] Standard Errors assume that the covariance matrix of the errors is correctly specified.\n",
      "[2] The condition number is large, 1.16e+03. This might indicate that there are\n",
      "strong multicollinearity or other numerical problems.\n"
     ]
    },
    {
     "data": {
      "text/plain": [
       "<Figure size 864x576 with 0 Axes>"
      ]
     },
     "metadata": {},
     "output_type": "display_data"
    }
   ],
   "source": [
    "print(res.summary())\n",
    "fig = plt.figure(figsize=(12, 8))"
   ]
  },
  {
   "cell_type": "code",
   "execution_count": 69,
   "metadata": {},
   "outputs": [
    {
     "name": "stderr",
     "output_type": "stream",
     "text": [
      "C:\\Users\\Jishan\\anaconda3\\lib\\site-packages\\matplotlib\\axes\\_base.py:2283: UserWarning: Warning: converting a masked element to nan.\n",
      "  xys = np.asarray(xys)\n"
     ]
    }
   ],
   "source": [
    "fig = sm.graphics.plot_regress_exog(res, 'overall',fig=fig)"
   ]
  },
  {
   "cell_type": "markdown",
   "metadata": {
    "pycharm": {
     "name": "#%% md\n"
    }
   },
   "source": [
    "## 3. Password\n",
    "\n",
    "Create a program that performs the following tasks: (You are only allowed to import time and pickle. Use ``password.py`` as a template.)\n",
    "\n",
    "1. When you start the program it aks you to enter a password. \n",
    "\n",
    "2. The password is stored in a pickle file. If the password is incorrect, it should be requested again. If the password is correct, you can choose between the following options:\n",
    "    \n",
    "    2.1. P: Show the information which is stored in 'secret_file.txt'!\n",
    "\n",
    "    2.2. C: Change the password.\n",
    "\n",
    "    2.3. L: Lock the program. (Go back to password request.)\n",
    "\n",
    "    2.4. X: Exit the program.\n",
    "\n",
    "3. If there is no pickle file with a password, it should ask you to set a new password and then store it into the pickle file.\n",
    "\n",
    "4. If one enters the wrong password six times in row, it should wait for 10 seconds until it shows the message. \n",
    "\n",
    "5. It should check if the password has a minimum length of 10 and if consists of at least one letter and ask for confirmation. It should also print if the requirement is fulfilled.\n",
    "\n",
    "\n",
    "\n",
    "\n"
   ]
  },
  {
   "cell_type": "code",
   "execution_count": 30,
   "metadata": {},
   "outputs": [
    {
     "name": "stdout",
     "output_type": "stream",
     "text": [
      "Please set your password: \n",
      "123456789\n",
      "Password has to have minimum 10 character.\n",
      "Please set your password: \n",
      "1234567890\n",
      "Congratulations!\n",
      "Confirm password: \n",
      "1234567890\n",
      "Password successfully changed.\n",
      "Enter the password. (Or enter \"E\" to exit.)\n",
      "1234567890\n",
      "Enter \"P\" to show secret file, Enter \"C\" to change the password, Enter \"L\" to lock, Enter \"E\" to exit the programm.\n",
      "P\n",
      "“Three may keep a secret, if two of them are dead.”\n",
      "“A good friend keeps your secrets for you. A best friend helps you keep your own secrets.”\n",
      "“Man is not what he thinks he is, he is what he hides.”\n",
      "“If you want to keep a secret, you must also hide it from yourself.”\n",
      "“Don't trust people who tell you other people's secrets.”\n",
      "“Books let us into their souls and lay open to us the secrets of our own.\"\n",
      "“Some secrets are meant to be known- but once known you can never forget them.”\n",
      "“Secrets are generally terrible. Beauty is not hidden--only ugliness and deformity.”\n",
      "“We are bound by the secrets we share.”\n",
      "“Women are better at keeping secrets, but men are more comfortable with them”\n",
      "\n",
      "Enter \"P\" to show secret file, Enter \"C\" to change the password, Enter \"L\" to lock, Enter \"E\" to exit the programm.\n",
      "E\n"
     ]
    }
   ],
   "source": [
    "import pickle\n",
    "import time\n",
    "from termcolor import colored\n",
    "\n",
    "def change_pw():\n",
    "    while True:\n",
    "        new_password = input('Please set your password: \\n')\n",
    "        if len(new_password) < 10:\n",
    "            print('Password has to have minimum 10 character.')\n",
    "            continue\n",
    "        else:\n",
    "            print('Congratulations!')\n",
    "        if new_password==\"E\":\n",
    "            continue\n",
    "        if new_password != input('Confirm password: \\n'):\n",
    "            print(colored('Passwords must be equal to the previous password.','red'))\n",
    "            continue\n",
    "        pickle.dump(new_password, open(r'C:\\Users\\Jishan\\OneDrive - Technische Universität Dortmund\\Desktop\\Final Assignment\\pw_file.p', 'wb'))\n",
    "        print('Password successfully changed.')\n",
    "        return new_password\n",
    "\n",
    "failures=0\n",
    "exit_flag = False\n",
    "\n",
    "while True:\n",
    "    try:\n",
    "        password = pickle.load(open(r'C:\\Users\\Jishan\\OneDrive - Technische Universität Dortmund\\Desktop\\Final Assignment\\pw_file.p', 'rb') )\n",
    "    except:\n",
    "        password = change_pw()\n",
    "\n",
    "    enter_password= input('Enter the password. (Or enter \"E\" to exit.)\\n')\n",
    "\n",
    "\n",
    "    if enter_password == password:\n",
    "        while True:\n",
    "            option = input('Enter \"P\" to show secret file, Enter \"C\" to change the password, Enter \"L\" to lock, Enter \"E\" to exit the programm.\\n').upper()\n",
    "            \n",
    "            if option == \"P\": \n",
    "                secret_file = open(r'C:\\Users\\Jishan\\OneDrive - Technische Universität Dortmund\\Desktop\\Final Assignment\\password-20221001\\secret_file.txt', 'r', encoding='utf8')\n",
    "                secret_file_content = secret_file.read()\n",
    "                print(secret_file_content)\n",
    "                secret_file.close()\n",
    "                continue\n",
    "\n",
    "            if option == \"C\":\n",
    "                password = change_pw()\n",
    "\n",
    "            if option == \"L\":\n",
    "                break\n",
    "                \n",
    "            if option == \"E\":\n",
    "                exit_flag = True\n",
    "                break                   \n",
    "                            \n",
    "            print(colored('No valid not detected', 'red'))\n",
    "        if exit_flag :\n",
    "            break\n",
    "    \n",
    "    elif enter_password == \"E\":\n",
    "        break        \n",
    "    else:\n",
    "        failures += 1\n",
    "        if failures == 6:\n",
    "            time.sleep(10)\n",
    "            failures = 0\n",
    "        print(colored('Wrong Password!', 'red'))"
   ]
  },
  {
   "cell_type": "code",
   "execution_count": null,
   "metadata": {},
   "outputs": [],
   "source": []
  },
  {
   "cell_type": "markdown",
   "metadata": {},
   "source": [
    "## 4. Webscraping"
   ]
  },
  {
   "cell_type": "markdown",
   "metadata": {},
   "source": [
    "Create a program that takes the date in the format MM-DD as an input and queries all people on the English-language Wikipedia (for example https://en.wikipedia.org/wiki/July_12) that are born on that day and saves it in a JSON file. (Note: See ``'07-12.json'`` as an example file.)"
   ]
  },
  {
   "cell_type": "code",
   "execution_count": 70,
   "metadata": {},
   "outputs": [
    {
     "name": "stderr",
     "output_type": "stream",
     "text": [
      "C:\\Users\\Jishan\\AppData\\Local\\Temp/ipykernel_12924/1884576983.py:2: DeprecationWarning: executable_path has been deprecated, please pass in a Service object\n",
      "  driver = webdriver.Chrome(chrome_path)\n"
     ]
    }
   ],
   "source": [
    "chrome_path=r'C:\\Users\\Jishan\\OneDrive - Technische Universität Dortmund\\Desktop\\PY Block\\Day-4\\chromedriver.exe'\n",
    "driver = webdriver.Chrome(chrome_path)"
   ]
  },
  {
   "cell_type": "code",
   "execution_count": 71,
   "metadata": {},
   "outputs": [],
   "source": [
    "date='07-12'\n",
    "month_list = ['January','February','March','April','May','June','July','August','September','October','November','December']\n",
    "link = 'https://en.wikipedia.org/wiki/July_12'\n",
    "res = driver.get(link)"
   ]
  },
  {
   "cell_type": "code",
   "execution_count": 72,
   "metadata": {},
   "outputs": [
    {
     "name": "stdout",
     "output_type": "stream",
     "text": [
      "<selenium.webdriver.remote.webelement.WebElement (session=\"6342cdf6ed0a0f15d8d1dae5efd30ec2\", element=\"c9afb457-993e-45d7-81be-9755051a56bb\")>\n",
      "July 12\n",
      "From Wikipedia, the free encyclopedia\n",
      "Jump to navigation\n",
      "Jump to search\n",
      "<< July >>\n",
      "Su Mo Tu We Th Fr Sa\n",
      "1 2\n",
      "3 4 5 6 7 8 9\n",
      "10 11 12 13 14 15 16\n",
      "17 18 19 20 21 22 23\n",
      "24 25 26 27 28 29 30\n",
      "31  \n",
      "2022\n",
      "July 12 in recent years\n",
      "  2022 (Tuesday)\n",
      "  2021 (Monday)\n",
      "  2020 (Sunday)\n",
      "  2019 (Friday)\n",
      "  2018 (Thursday)\n",
      "  2017 (Wednesday)\n",
      "  2016 (Tuesday)\n",
      "  2015 (Sunday)\n",
      "  2014 (Saturday)\n",
      "  2013 (Friday)\n",
      "July 12 is the 193rd day of the year (194th in leap years) in the Gregorian calendar; 172 days remain until the end of the year.\n",
      "Contents\n",
      "1 Events\n",
      "1.1 Pre-1600\n",
      "1.2 1601–1900\n",
      "1.3 1901–present\n",
      "2 Births\n",
      "2.1 Pre-1600\n",
      "2.2 1601–1900\n",
      "2.3 1901–present\n",
      "3 Deaths\n",
      "3.1 Pre-1600\n",
      "3.2 1601–1900\n",
      "3.3 1901–present\n",
      "4 Holidays and observances\n",
      "5 References\n",
      "6 External links\n",
      "Events[edit]\n",
      "Pre-1600[edit]\n",
      "70 – The armies of Titus attack the walls of Jerusalem after a six-month siege. Three days later they breach the walls, which enables the army to destroy the Second Temple.\n",
      "927 – King Constantine II of Scotland, King Hywel Dda of Deheubarth, Ealdred of Bamburgh and King Owain of the Cumbrians accepted the overlordship of King Æthelstan of England, leading to seven years of peace in the north.\n",
      "1191 – Third Crusade: Saladin's garrison surrenders to Philip Augustus, ending the two-year siege of Acre.[1]\n",
      "1470 – The Ottomans capture Euboea.[2]\n",
      "1488 – Joseon Dynasty official Choe Bu returned to Korea after months of shipwrecked travel in China.[3]\n",
      "1493 – Hartmann Schedel's Nuremberg Chronicle, one of the best-documented early printed books, is published.\n",
      "1527 – Lê Cung Hoàng ceded the throne to Mạc Đăng Dung, ending the Lê dynasty and starting the Mạc dynasty.\n",
      "1543 – King Henry VIII of England marries his sixth and last wife, Catherine Parr, at Hampton Court Palace.[4]\n",
      "1562 – Fray Diego de Landa, acting Bishop of Yucatán, burns the sacred idols and books of the Maya.[5]\n",
      "1576 – Mughal Empire annexes Bengal after defeating the Bengal Sultanate at the Battle of Rajmahal.[6]\n",
      "1580 – The Ostrog Bible, one of the early printed Bibles in a Slavic language, is published.\n",
      "1601–1900[edit]\n",
      "1691 – Battle of Aughrim (Julian calendar): The decisive victory of William III of England's forces in Ireland.[7]\n",
      "1776 – Captain James Cook begins his third voyage.\n",
      "1789 – In response to the dismissal of the French finance minister Jacques Necker, the radical journalist Camille Desmoulins gives a speech which results in the storming of the Bastille two days later.[8]\n",
      "1790 – The Civil Constitution of the Clergy is passed in France by the National Constituent Assembly.\n",
      "1799 – Ranjit Singh conquers Lahore and becomes Maharaja of the Punjab (Sikh Empire).\n",
      "1801 – British ships inflict heavy damage on Spanish and French ships in the Second Battle of Algeciras.\n",
      "1806 – At the insistence of Napoleon, Bavaria, Baden, Württemberg and thirteen minor principalities leave the Holy Roman Empire and form the Confederation of the Rhine.\n",
      "1812 – The American Army of the Northwest briefly occupies the Upper Canadian settlement at what is now at Windsor, Ontario.\n",
      "1862 – The Medal of Honor is authorized by the United States Congress.\n",
      "1901–present[edit]\n",
      "1913 – Serbian forces begin their siege of the Bulgarian city of Vidin; the siege is later called off when the war ends.\n",
      "1913 – The Second Revolution breaks out against the Beiyang government, as Li Liejun proclaims Jiangxi independent from the Republic of China.[9]\n",
      "1917 – The Bisbee Deportation occurs as vigilantes kidnap and deport nearly 1,300 striking miners and others from Bisbee, Arizona.\n",
      "1918 – The Imperial Japanese Navy battleship Kawachi blows up at Shunan, western Honshu, Japan, killing at least 621.\n",
      "1920 – The Soviet–Lithuanian Peace Treaty is signed, by which Soviet Russia recognizes the independence of Lithuania.\n",
      "1943 – German and Soviet forces engage in the Battle of Prokhorovka, one of the largest armored engagements of all time.\n",
      "1948 – Israeli Prime Minister David Ben-Gurion orders the expulsion of Palestinians from the towns of Lod and Ramla.\n",
      "1960 – Orlyonok, the main Young Pioneer camp of the Russian SFSR, is founded.\n",
      "1961 – Indian city Pune floods due to failure of the Khadakwasla and Panshet dams, killing at least two thousand people.\n",
      "1961 – ČSA Flight 511 crashes at Casablanca–Anfa Airport in Morocco, killing 72.[10]\n",
      "1962 – The Rolling Stones perform for the first time at London's Marquee Club.\n",
      "1963 – Pauline Reade, 16, disappears in Gorton, England, the first victim in the Moors murders.\n",
      "1967 – Riots begin in Newark, New Jersey.\n",
      "1971 – The Australian Aboriginal Flag is flown for the first time.\n",
      "1973 – A fire destroys the entire sixth floor of the National Personnel Records Center of the United States.\n",
      "1975 – São Tomé and Príncipe declare independence from Portugal.\n",
      "1979 – The island nation of Kiribati becomes independent from the United Kingdom.\n",
      "1995 – Chinese seismologists successfully predict the 1995 Myanmar–China earthquake, reducing the number of casualties to 11.[11]\n",
      "1998 – The Ulster Volunteer Force attacked a house in Ballymoney, County Antrim, Northern Ireland with a petrol bomb, killing the Quinn brothers.\n",
      "2001 – Space Shuttle program: Space Shuttle Atlantis is launched on mission STS-104, carrying the Quest Joint Airlock to the International Space Station.[12]\n",
      "2006 – The 2006 Lebanon War begins.\n",
      "2007 – U.S. Army Apache helicopters engage in airstrikes against armed insurgents in Baghdad, Iraq, where civilians are killed; footage from the cockpit is later leaked to the Internet.[13]\n",
      "2012 – Syrian Civil War: Government forces target the homes of rebels and activists in Tremseh and kill anywhere between 68 and 150 people.[14]\n",
      "2012 – A tank truck explosion kills more than 100 people in Okobie, Nigeria.[15]\n",
      "2013 – Six people are killed and 200 injured in a French passenger train derailment in Brétigny-sur-Orge.[16]\n",
      "Births[edit]\n",
      "Pre-1600[edit]\n",
      "100 BC – Julius Caesar, Roman politician and general (d. 44 BC)[17]\n",
      "1394 – Ashikaga Yoshinori, Japanese shōgun (d. 1441)\n",
      "1468 – Juan del Encina, Spanish poet, playwright, and composer (probable;[18] d. 1530)\n",
      "1477 – Jacopo Sadoleto, Italian cardinal (d. 1547)[19]\n",
      "1549 – Edward Manners, 3rd Earl of Rutland (d. 1587)\n",
      "1601–1900[edit]\n",
      "1628 – Henry Howard, 6th Duke of Norfolk (d. 1684)[20]\n",
      "1651 – Margaret Theresa of Spain (d. 1673)\n",
      "1675 – Evaristo Felice Dall'Abaco, Italian violinist and composer (d. 1742)\n",
      "1712 – Sir Francis Bernard, 1st Baronet, Colonial governor of New Jersey and Massachusetts Bay (d. 1779)\n",
      "1730 – Josiah Wedgwood, English potter, founded the Wedgwood Company (d. 1795)\n",
      "1803 – Peter Chanel, French priest and saint (d. 1841)\n",
      "1807 – Thomas Hawksley, English engineer and academic (d. 1893)\n",
      "1813 – Claude Bernard, French physiologist and academic (d. 1878)\n",
      "1817 – Henry David Thoreau, American essayist, poet, and philosopher (d. 1862)\n",
      "1817 – Alvin Saunders, Territorial Governor and Senator from Nebraska (d. 1899)[21]\n",
      "1821 – D. H. Hill, American general and academic (d. 1889)\n",
      "1824 – Eugène Boudin, French painter (d. 1898)\n",
      "1828 – Nikolay Chernyshevsky, Russian philosopher and critic (d. 1889)\n",
      "1849 – William Osler, Canadian physician and author (d. 1919)\n",
      "1850 – Otto Schoetensack, German anthropologist and academic (d. 1912)\n",
      "1852 – Hipólito Yrigoyen, Argentinian lawyer and politician, 19th President of Argentina (d. 1933)\n",
      "1854 – George Eastman, American businessman, founded Eastman Kodak (d. 1933)\n",
      "1855 – Ned Hanlan, Canadian rower, academic, and businessman (d. 1908)\n",
      "1857 – George E. Ohr, American potter (d. 1918)\n",
      "1861 – Anton Arensky, Russian pianist, composer, and educator (d. 1906)\n",
      "1863 – Albert Calmette, French physician, bacteriologist, and immunologist (d. 1933)\n",
      "1863 – Paul Drude, German physicist and academic (d. 1906)\n",
      "1868 – Stefan George, German poet and translator (d. 1933)\n",
      "1870 – Louis II, Prince of Monaco (d. 1949)\n",
      "1872 – Emil Hácha, Czech lawyer and politician, 3rd President of Czechoslovakia (d. 1945)\n",
      "1876 – Max Jacob, French poet, painter, and critic (d. 1944)\n",
      "1876 – Alphaeus Philemon Cole, American artist, engraver and etcher (d. 1988)\n",
      "1878 – Peeter Põld, Estonian scientist and politician, 1st Estonian Minister of Education (d. 1930)\n",
      "1879 – Margherita Piazzola Beloch, Italian mathematician (d. 1976)\n",
      "1879 – Han Yong-un, Korean poet (d. 1944)\n",
      "1880 – Tod Browning, American actor, director, and screenwriter (d. 1962)\n",
      "1881 – Natalia Goncharova, Russian theatrical costume and set designer, painter and illustrator (d. 1962)[22]\n",
      "1884 – Louis B. Mayer, Russian-born American film producer, co-founded Metro-Goldwyn-Mayer (d. 1957)\n",
      "1884 – Amedeo Modigliani, Italian painter and sculptor (d. 1920)\n",
      "1886 – Jean Hersholt, Danish-American actor and director (d. 1956)\n",
      "1888 – Zygmunt Janiszewski, Polish mathematician and academic (d. 1920)[23]\n",
      "1892 – Bruno Schulz, Ukrainian-Polish author and painter (d. 1942)\n",
      "1895 – Kirsten Flagstad, Norwegian soprano (d. 1962)\n",
      "1895 – Buckminster Fuller, American architect and engineer, designed the Montreal Biosphère (d. 1983)\n",
      "1895 – Oscar Hammerstein II, American director, producer, and songwriter (d. 1960)\n",
      "1899 – E.D. Nixon, American civil rights leader (d. 1987)\n",
      "1901–present[edit]\n",
      "1902 – Günther Anders, German philosopher and journalist (d. 1992)\n",
      "1902 – Tony Lovink, Dutch politician; Governor-General of the Dutch East Indies (d. 1995)\n",
      "1902 – Vic Armbruster, Australian rugby league player (d. 1984)\n",
      "1904 – Pablo Neruda, Chilean poet and diplomat, Nobel Prize laureate (d. 1973)\n",
      "1907 – Weary Dunlop, Australian colonel and surgeon (d. 1993)\n",
      "1908 – Milton Berle, American comedian and actor (d. 2002)\n",
      "1908 – Alain Cuny, French actor (d. 1994)\n",
      "1908 – Paul Runyan, American golfer and sportscaster (d. 2002)\n",
      "1909 – Joe DeRita, American actor (d. 1993)\n",
      "1909 – Motoichi Kumagai, Japanese photographer and illustrator (d. 2010)\n",
      "1909 – Fritz Leonhardt, German engineer, designed Fernsehturm Stuttgart (d. 1999)\n",
      "1909 – Herbert Zim, American naturalist, author, and educator (d. 1994)\n",
      "1911 – Evald Mikson, Estonian footballer (d. 1993)\n",
      "1913 – Willis Lamb, American physicist and academic, Nobel Prize laureate (d. 2008)\n",
      "1914 – Mohammad Moin, Iranian linguist and lexicographer (d. 1971)\n",
      "1915 – Emanuel Papper, American anesthesiologist, professor, and author (d. 2002)\n",
      "1915 – Princess Catherine Ivanovna of Russia, (d. 2007)\n",
      "1916 – Lyudmila Pavlichenko, Ukrainian-Russian soldier and sniper (d. 1974)\n",
      "1917 – Luigi Gorrini, Italian soldier and pilot (d. 2014)\n",
      "1917 – Satyendra Narayan Sinha, Indian statesman (d. 2006)\n",
      "1917 – Andrew Wyeth, American artist (d. 2009)\n",
      "1918 – Mary Glen-Haig, English fencer (d. 2014)\n",
      "1918 – Vivian Mason, American actress (d. 2009)\n",
      "1918 – Doris Grumbach, American novelist, memoirist, biographer, literary critic, and essayist\n",
      "1918 – Rusty Dedrick, American swing and bebop jazz trumpeter (d. 2009)\n",
      "1920 – Pierre Berton, Canadian journalist and author (d. 2004)\n",
      "1920 – Bob Fillion, Canadian ice hockey player and manager (d. 2015)\n",
      "1920 – Paul Gonsalves, American saxophonist (d. 1974)\n",
      "1920 – Randolph Quirk, Manx linguist and academic (d. 2017)\n",
      "1920 – Beah Richards, American actress (d. 2000)\n",
      "1922 – Mark Hatfield, American soldier and politician, 29th Governor of Oregon (d. 2011)\n",
      "1923 – James E. Gunn, American science fiction author (d. 2020)\n",
      "1924 – Faidon Matthaiou, Greek basketball player and coach (d. 2011)\n",
      "1925 – Albert Lance, Australian-French tenor (d. 2013)\n",
      "1925 – Roger Smith, American businessman (d. 2007)\n",
      "1926 – Siti Hasmah Mohamad Ali, wife of the Prime Minister of Malaysia, Tun Dr. Mahathir Mohamad\n",
      "1927 – Françoys Bernier, Canadian pianist, conductor, and educator (d. 1993)\n",
      "1927 – Conte Candoli, American trumpet player (d. 2001)\n",
      "1927 – Jack Harshman, American baseball player (d. 2013)\n",
      "1927 – Harley Hotchkiss, Canadian businessman (d. 2011)\n",
      "1928 – Alastair Burnet, English journalist (d. 2012)\n",
      "1928 – Elias James Corey, American chemist and academic, Nobel Prize laureate\n",
      "1928 – Imero Fiorentino, American lighting designer (d. 2013)\n",
      "1930 – Gordon Pinsent, Canadian actor, director, and screenwriter\n",
      "1930 –Guy Ligier, French racing driver and team owner (d. 2015)[24]\n",
      "1931 – Eric Ives, English historian and academic (d. 2012)\n",
      "1931 – Geeto Mongol, Canadian-American wrestler and trainer (d. 2013)\n",
      "1932 – Rene Goulet, Canadian professional wrestler (d. 2019)\n",
      "1932 – Monte Hellman, American director and producer (d. 2021)\n",
      "1932 – Otis Davis, American sprinter\n",
      "1933 – Victor Poor, American engineer, developed the Datapoint 2200 (d. 2012)\n",
      "1933 – Donald E. Westlake, American author and screenwriter (d. 2008)\n",
      "1934 – Thomas Charlton, American competition rower and Olympic champion\n",
      "1934 – Van Cliburn, American pianist and composer (d. 2013)\n",
      "1935 – Satoshi Ōmura, Japanese biochemist and academic, Nobel Prize laureate\n",
      "1936 – Jan Němec, Czech director and screenwriter (d. 2016)\n",
      "1937 – Bill Cosby, American actor, comedian, producer, and screenwriter\n",
      "1937 – Mickey Edwards, American lawyer and politician\n",
      "1937 – Lionel Jospin, French civil servant and politician, 165th Prime Minister of France\n",
      "1937 – Robert McFarlane, American colonel and diplomat, 13th United States National Security Advisor (d. 2022)\n",
      "1937 – Guy Woolfenden, English composer and conductor (d. 2016)\n",
      "1938 – Ron Fairly, American baseball player and sportscaster (d. 2019)\n",
      "1938 – Wieger Mensonides, Dutch swimmer\n",
      "1938 – Eiko Ishioka, Japanese art director and graphic designer (d. 2012)\n",
      "1939 – Phillip Adams, Australian journalist and producer\n",
      "1939 – Arlen Ness, American motorcycle designer and entrepreneur (d. 2019)\n",
      "1941 – Benny Parsons, American race car driver and sportscaster (d. 2007)\n",
      "1942 – Swamp Dogg, American R&B singer-songwriter and musician\n",
      "1942 – Roy Palmer, English cricketer and umpire\n",
      "1942 – Billy Smith, Australian rugby league player and coach\n",
      "1942 – Steve Young, American country singer-songwriter and guitarist (d. 2016)\n",
      "1943 – Christine McVie, English singer-songwriter and keyboard player\n",
      "1943 – Paul Silas, American basketball player and coach\n",
      "1944 – Simon Blackburn, English philosopher and academic\n",
      "1944 – Delia Ephron, American author, playwright, and screenwriter\n",
      "1944 – Pat Woodell, American actress and singer (d. 2015)\n",
      "1945 – Butch Hancock, American country-folk singer-songwriter and musician\n",
      "1947 – Gareth Edwards, Welsh rugby player and sportscaster\n",
      "1947 – Wilko Johnson, English singer-songwriter, guitarist, and actor\n",
      "1947 – Richard C. McCarty, American psychologist and academic\n",
      "1948 – Ben Burtt, American director, screenwriter, and sound designer\n",
      "1948 – Walter Egan, American singer-songwriter and guitarist\n",
      "1948 – Richard Simmons, American fitness trainer and actor\n",
      "1949 – Simon Fox, English drummer\n",
      "1949 – Rick Hendrick, American businessman, founded Hendrick Motorsports\n",
      "1950 – Eric Carr, American drummer and songwriter (d. 1991)\n",
      "1950 – Gilles Meloche, Canadian ice hockey player and coach\n",
      "1951 – Joan Bauer, American author\n",
      "1951 – Brian Grazer, American screenwriter and producer, founded Imagine Entertainment\n",
      "1951 – Cheryl Ladd, American actress\n",
      "1951 – Piotr Pustelnik, Polish mountaineer\n",
      "1951 – Jamey Sheridan, American actor\n",
      "1952 – Voja Antonić, Serbian computer scientist and journalist, designed the Galaksija computer\n",
      "1952 – Irina Bokova, Bulgarian politician, Bulgarian Minister of Foreign Affairs\n",
      "1952 – Philip Taylor Kramer, American bass player (d. 1995)\n",
      "1954 – Eric Adams, American singer-songwriter\n",
      "1954 – Robert Carl, American pianist and composer\n",
      "1954 – Wolfgang Dremmler, German footballer and coach\n",
      "1955 – Timothy Garton Ash, English historian and author\n",
      "1955 – Jimmy LaFave, American singer-songwriter and guitarist (d. 2017)\n",
      "1956 – Mel Harris, American actress\n",
      "1956 – Sandi Patty, American singer and pianist\n",
      "1956 – Mario Soto, Dominican baseball player\n",
      "1957 – Rick Husband, American colonel, pilot, and astronaut (d. 2003)\n",
      "1957 – Dave Semenko, Canadian ice hockey player and sportscaster (d. 2017)\n",
      "1958 – J. D. Hayworth, American politician and radio host\n",
      "1958 – Tonya Lee Williams, English-Canadian actress and producer\n",
      "1959 – David Brown, Australian meteorologist\n",
      "1959 – Tupou VI, King of Tonga\n",
      "1959 – Karl J. Friston, English psychiatrist and neuroscientist\n",
      "1959 – Charlie Murphy, American actor and comedian (d. 2017)\n",
      "1961 – Heikko Glöde, German footballer and manager\n",
      "1961 – Shiva Rajkumar, Indian actor, singer, and producer\n",
      "1962 – Julio César Chávez, Mexican boxer\n",
      "1962 – Luc De Vos, Belgian singer-songwriter and guitarist (d. 2014)\n",
      "1962 – Joanna Shields, American-English businesswoman\n",
      "1962 – Dean Wilkins, English footballer and manager\n",
      "1964 – Gaby Roslin, English television host and actress\n",
      "1965 – Sanjay Manjrekar, Indian cricketer and sportscaster\n",
      "1965 – Robin Wilson, American singer and guitarist\n",
      "1966 – Jeff Bucknum, American race car driver\n",
      "1966 – Annabel Croft, English tennis player and sportscaster\n",
      "1966 – Taiji, Japanese bass player and songwriter (d. 2011)\n",
      "1967 – Richard Herring, English comedian and screenwriter\n",
      "1967 – Mac McCaughan, American singer and guitarist\n",
      "1967 – John Petrucci, American singer-songwriter and guitarist\n",
      "1967 – Bruny Surin, Canadian sprinter\n",
      "1968 – Catherine Plewinski, French swimmer\n",
      "1969 – Lisa Nicole Carson, American actress\n",
      "1969 – Chantal Jouanno, French politician, French Minister of Youth Affairs and Sports\n",
      "1969 – Alan Mullally, English cricketer and sportscaster\n",
      "1969 – Anne-Sophie Pic, French chef\n",
      "1969 – Jesse Pintado, Mexican-American guitarist (d. 2006)\n",
      "1970 – Aure Atika, Portuguese-French actress, director, and screenwriter\n",
      "1970 – Lee Byung-hun, South Korean actor, singer, and dancer\n",
      "1971 – Joel Casamayor, Cuban-American former professional boxer\n",
      "1971 – Andriy Kovalenco, Ukrainian-Spanish rugby player\n",
      "1971 – Loni Love, American comedian, actress, and talk show host\n",
      "1971 – Kristi Yamaguchi, American figure skater\n",
      "1972 – Travis Best, American basketball player\n",
      "1972 – Jake Wood, English actor[25]\n",
      "1973 – Christian Vieri, Italian footballer\n",
      "1974 – Sharon den Adel, Dutch singer-songwriter\n",
      "1974 – Stelios Giannakopoulos, Greek footballer and manager\n",
      "1974 – Gregory Shane Helms, American professional wrestler\n",
      "1975 – Phil Lord, American filmmaker\n",
      "1976 – Dan Boyle, Canadian ice hockey player\n",
      "1976 – Anna Friel, English actress\n",
      "1976 – Tracie Spencer, American singer-songwriter and actress\n",
      "1977 – Neil Harris, English footballer and manager\n",
      "1977 – Steve Howey, American actor\n",
      "1977 – Brock Lesnar, American mixed martial artist and wrestler\n",
      "1977 – Francesca Lubiani, Italian tennis player\n",
      "1978 – Topher Grace, American actor\n",
      "1978 – Michelle Rodriguez, American actress\n",
      "1979 – Brooke Baldwin, American journalist and television news anchor\n",
      "1979 – Nikos Barlos, Greek basketball player\n",
      "1979 – Maya Kobayashi, Japanese journalist\n",
      "1980 – Kristen Connolly, American actress\n",
      "1981 – Adrienne Camp, South African singer-songwriter\n",
      "1981 – Pradeepan Raveendran, Sri Lankan director, producer, and screenwriter\n",
      "1982 – Antonio Cassano, Italian footballer\n",
      "1982 – Jason Wright, American football player, businessman, and executive[26]\n",
      "1984 – Gareth Gates, English singer-songwriter\n",
      "1984 – Jonathan Lewis, American football player\n",
      "1984 – Natalie Martinez, American actress\n",
      "1984 – Michael McGovern, Irish footballer\n",
      "1984 – Sami Zayn, Canadian professional wrestler\n",
      "1985 – Paulo Vitor Barreto, Brazilian footballer\n",
      "1985 – Gianluca Curci, Italian footballer\n",
      "1985 – Keven Lacombe, Canadian cyclist\n",
      "1985 – Ismael Londt, Surinamese-Dutch kickboxer\n",
      "1986 – 360, Australian rapper\n",
      "1986 – Didier Digard, French footballer\n",
      "1986 – Hannaliis Jaadla, Estonian footballer\n",
      "1986 – JP Pietersen, South African rugby player\n",
      "1986 – Simone Laudehr, German footballer\n",
      "1988 – LeSean McCoy, American football player\n",
      "1988 – Inbee Park, South Korean golfer\n",
      "1989 – Nick Palmieri, American ice hockey player\n",
      "1990 – Bebé, Portuguese footballer\n",
      "1990 – Rachel Brosnahan, American actress[27]\n",
      "1991 – Salih Dursun, Turkish footballer\n",
      "1991 – James Rodríguez, Colombian footballer\n",
      "1992 – Bartosz Bereszyński, Polish footballer\n",
      "1993 – Kurt Capewell, Australian rugby league player\n",
      "1994 – Kanako Momota, Japanese singer-songwriter\n",
      "1995 – Evania Pelite, Australian rugby union player[28]\n",
      "1995 – Luke Shaw, English footballer\n",
      "1995 – Jordyn Wieber, American gymnast[29]\n",
      "1996 – Moussa Dembélé, French footballer\n",
      "1996 – Jordan Romero, American mountaineer\n",
      "1997 – Malala Yousafzai, Pakistani-English activist, Nobel Prize laureate[30]\n",
      "2000 – Vinícius Júnior, Brazilian footballer[31]\n",
      "Deaths[edit]\n",
      "Pre-1600[edit]\n",
      "524 – Viventiolus, archbishop of Lyon (b. 460)\n",
      "783 – Bertrada of Laon, Frankish queen (b. 720)\n",
      "965 – Meng Chang, emperor of Later Shu (b. 919)\n",
      "981 – Xue Juzheng, Chinese scholar-official and historian[32]\n",
      "1067 – John Komnenos, Byzantine general\n",
      "1441 – Ashikaga Yoshinori, Japanese shōgun (b. 1394)\n",
      "1441 – Kyōgoku Takakazu, Japanese nobleman\n",
      "1489 – Bahlul Lodi, sultan of Delhi\n",
      "1536 – Desiderius Erasmus, Dutch priest and philosopher (b. 1466)\n",
      "1584 – Steven Borough, English navigator and explorer (b. 1525)\n",
      "1601–1900[edit]\n",
      "1623 – William Bourchier, 3rd Earl of Bath (b. 1557)\n",
      "1664 – Stefano della Bella, Italian illustrator and engraver (b. 1610)\n",
      "1682 – Jean Picard, French priest and astronomer (b. 1620)\n",
      "1691 – Marquis de St Ruth, French general\n",
      "1693 – John Ashby, English admiral (b. 1640)\n",
      "1712 – Richard Cromwell, English academic and politician (b. 1626)\n",
      "1742 – Evaristo Felice Dall'Abaco, Italian violinist and composer (b. 1675)\n",
      "1749 – Charles de la Boische, Marquis de Beauharnois, French navy officer and politician, Governor General of New France (b. 1671)\n",
      "1773 – Johann Joachim Quantz, German flute player and composer (b. 1697)\n",
      "1804 – Alexander Hamilton, American general, economist, and politician, 1st United States Secretary of the Treasury (b. 1755)\n",
      "1845 – Henrik Wergeland, Norwegian linguist, poet, and playwright (b. 1808)\n",
      "1850 – Robert Stevenson, Scottish engineer (b. 1772)[33]\n",
      "1855 – Pavel Nakhimov, Russian admiral (b. 1802)\n",
      "1870 – John A. Dahlgren, American admiral (b. 1809)\n",
      "1892 – Alexander Cartwright, American firefighter, invented baseball (b. 1820)\n",
      "1901–present[edit]\n",
      "1908 – William D. Coleman, 13th President of Liberia (b. 1842)[34]\n",
      "1910 – Charles Rolls, English engineer and businessman, co-founded Rolls-Royce Limited (b. 1877)[35]\n",
      "1926 – Gertrude Bell, English archaeologist and spy (b. 1868)[36]\n",
      "1926 – Charles Wood Irish composer (b. 1866)\n",
      "1929 – Robert Henri, American painter and educator (b. 1865)\n",
      "1931 – Nathan Söderblom, Swedish archbishop, Nobel Prize laureate (b. 1866)\n",
      "1934 – Ole Evinrude, Norwegian-American inventor and businessman, invented the outboard motor (b. 1877)\n",
      "1935 – Alfred Dreyfus, French colonel (b. 1859)\n",
      "1944 – Theodore Roosevelt, Jr., American general and politician, Governor of Puerto Rico (b. 1887)\n",
      "1945 – Boris Galerkin, Russian mathematician and engineer (b. 1871)\n",
      "1945 – Wolfram Freiherr von Richthofen, German field marshal (b. 1895)\n",
      "1946 – Ray Stannard Baker, American journalist and author (b. 1870)\n",
      "1947 – Jimmie Lunceford, American saxophonist and bandleader (b. 1902)\n",
      "1949 – Douglas Hyde, Irish scholar and politician, 1st President of Ireland (b. 1860)\n",
      "1950 – Elsie de Wolfe, American actress, author, and interior decorator (b. 1865)\n",
      "1956 – John Hayes, Australian politician, 25th Premier of Tasmania (b. 1868)\n",
      "1961 – Mazo de la Roche, Canadian author and playwright (b. 1879)[37]\n",
      "1962 – Roger Wolfe Kahn, American composer and bandleader (b. 1907)\n",
      "1965 – Christfried Burmeister, Estonian speed skater (b. 1898)\n",
      "1966 – D. T. Suzuki, Japanese philosopher and author (b. 1870)\n",
      "1969 – Henry George Lamond, Australian farmer and author (b. 1885)\n",
      "1971 – Yvon Robert, Canadian wrestler (b. 1914)\n",
      "1973 – Lon Chaney, Jr., American actor (b. 1906)\n",
      "1975 – James Ormsbee Chapin, American painter and illustrator (b. 1887)\n",
      "1979 – Olive Morris, Jamaican-English civil rights activist (b. 1952)[38]\n",
      "1979 – Minnie Riperton, American singer-songwriter (b. 1947)\n",
      "1982 – Kenneth More, English actor (b. 1914)\n",
      "1983 – Chris Wood, English saxophonist (b. 1944)\n",
      "1990 – João Saldanha, Brazilian footballer, manager, and journalist (b. 1917)\n",
      "1992 – Caroline Pafford Miller, American journalist and author (b. 1903)\n",
      "1993 – Dan Eldon, English photographer and journalist (b. 1970)\n",
      "1994 – Eila Campbell, English geographer and cartographer (b. 1915)[39]\n",
      "1996 – John Chancellor, American journalist (b. 1927)\n",
      "1997 – François Furet, French historian and author (b. 1927)\n",
      "1998 – Jimmy Driftwood, American singer-songwriter and banjo player (b. 1907)\n",
      "1998 – Arkady Ostashev, Soviet/Russian scientist and engineer (b. 1925)\n",
      "1998 – Serge Lemoyne, Canadian painter (b. 1941)\n",
      "1999 – Rajendra Kumar, Indian actor (b. 1921)\n",
      "2000 – Charles Merritt, Canadian colonel and politician, Victoria Cross recipient (b. 1908)\n",
      "2001 – Fred Marcellino, American author and illustrator (b. 1939)\n",
      "2003 – Benny Carter, American trumpet player, saxophonist, and composer (b. 1907)\n",
      "2003 – Mark Lovell, English race car driver (b. 1960)\n",
      "2004 – Betty Oliphant, English-Canadian ballerina, co-founded the National Ballet School of Canada (b. 1918)\n",
      "2005 – John King, Baron King of Wartnaby, English businessman (b. 1917)\n",
      "2007 – Robert Burås, Norwegian singer-songwriter and guitarist (b. 1975)\n",
      "2007 – Stan Zemanek, Australian radio and television host (b. 1947)\n",
      "2008 – Bobby Murcer, American baseball player, coach, and sportscaster (b. 1946)\n",
      "2008 – Tony Snow, American journalist, 26th White House Press Secretary (b. 1955)\n",
      "2010 – Olga Guillot, Cuban-American singer (b. 1922)\n",
      "2010 – James P. Hogan, English-American author (b. 1941)\n",
      "2010 – Paulo Moura, Brazilian clarinetist and saxophonist (b. 1932)\n",
      "2010 – Pius Njawé, Cameroonian journalist (b. 1957)\n",
      "2010 – Harvey Pekar, American author and critic (b. 1939)\n",
      "2011 – Sherwood Schwartz, American screenwriter and producer (b. 1916)\n",
      "2012 – Alimuddin, Pakistani cricketer (b. 1930)\n",
      "2012 – Dara Singh, Indian wrestler, actor, and politician (b. 1928)[40]\n",
      "2012 – Eddy Brown, English footballer and manager (b. 1926)\n",
      "2012 – Else Holmelund Minarik, Danish-American author and illustrator (b. 1920)\n",
      "2012 – Roger Payne, English mountaineer (b. 1956)\n",
      "2012 – Hamid Samandarian, Iranian director and playwright (b. 1931)\n",
      "2012 – George C. Stoney, American director and producer (b. 1916)\n",
      "2013 – Amar Bose, American businessman, founded the Bose Corporation (b. 1929)\n",
      "2013 – Takako Takahashi, Japanese author (b. 1932)\n",
      "2013 – Elaine Morgan, Welsh writer (b. 1920)[41]\n",
      "2013 – Alan Whicker, Egyptian-English journalist (b. 1925)\n",
      "2014 – Jamil Ahmad, Pakistani author (b. 1931)\n",
      "2014 – Nestor Basterretxea, Spanish painter and sculptor (b. 1924)\n",
      "2014 – Emil Bobu, Romanian politician (b. 1927)\n",
      "2014 – Alfred de Grazia, American political scientist and author (b. 1919)\n",
      "2014 – Kenneth J. Gray, American soldier and politician (b. 1924)\n",
      "2014 – Valeriya Novodvorskaya, Russian journalist and politician (b. 1950)\n",
      "2015 – D'Army Bailey, American lawyer, judge, and actor (b. 1941)\n",
      "2015 – Chenjerai Hove, Zimbabwean journalist, author, and poet (b. 1956)\n",
      "2015 – Tenzin Delek Rinpoche, Tibetan monk and activist (b. 1950)\n",
      "2015 – Cheng Siwei, Chinese engineer, economist, and politician (b. 1935)\n",
      "2016 – Goran Hadžić, Serbian politician (b. 1958)\n",
      "2019 – Emily Hartridge, English Youtuber and television presenter (b. 1984)[42]\n",
      "2020 – Kelly Preston, American actress and model (b. 1962)[43]\n",
      "2020 – Wim Suurbier, a Dutch football player, (b. 1945)[44]\n",
      "Holidays and observances[edit]\n",
      "Birthday of the Heir to the Crown of Tonga (Tonga)\n",
      "Christian feast day:\n",
      "Feast of Saints Peter and Paul (Eastern Orthodox)\n",
      "Hermagoras and Fortunatus\n",
      "Jason of Thessalonica (Catholic Church)\n",
      "John Gualbert\n",
      "Louis Martin and Marie-Azélie Guérin\n",
      "Nabor and Felix\n",
      "Nathan Söderblom (Lutheran, Episcopal Church (USA))\n",
      "Veronica\n",
      "Viventiolus\n",
      "July 12 (Eastern Orthodox liturgics)\n",
      "Independence Day, celebrates the independence of Kiribati from the United Kingdom in 1979.\n",
      "Independence Day, celebrates the independence of São Tomé and Príncipe from Portugal in 1975.\n",
      "The second day of Naadam (Mongolia)\n",
      "The Twelfth, also known as Orangemen's Day (Northern Ireland, Scotland, Newfoundland and Labrador)\n",
      "References[edit]\n",
      "^ Jamie Byrom; Michael Riley (26 April 2013). Enquiring History: The Crusades: Conflict and Controversy, 1095-1291. Hodder Education. p. 192. ISBN 978-1-4441-7925-5.\n",
      "^ Meserve, Margaret (2006). \"News from Negroponte: Politics, Popular Opinion, and Information Exchange in the First Decade of the Italian Press\". Renaissance Quarterly. 59 (2): 440–480. doi:10.1353/ren.2008.0312. JSTOR 10.1353/ren.2008.0312. S2CID 154360566. Retrieved 28 January 2021.\n",
      "^ Brook, Timothy. (1998). The Confusions of Pleasure: Commerce and Culture in Ming China. Berkeley: University of California Press. ISBN 0-520-22154-0 (Paperback), p. 51.\n",
      "^ Joseph Timothy Haydn (1868). Dictionary of dates, and universal reference. p. 276.\n",
      "^ Derek Jones (December 2001). Censorship: A World Encyclopedia. Routledge. p. 1573. ISBN 978-1-136-79864-1.\n",
      "^ Richards, John F. (1996). The Mughal Empire. Cambridge University Press. p. 33. ISBN 978-0-521-56603-2.\n",
      "^ Thomas Bartlett; Keith Jeffery (9 October 1997). A Military History of Ireland. Cambridge University Press. p. 209. ISBN 978-0-521-62989-8.\n",
      "^ David Garrioch (17 September 2002). The Making of Revolutionary Paris. University of California Press. p. 295. ISBN 978-0-520-93839-7.\n",
      "^ Ernest Young, \"Politics in the Aftermath of Revolution,\" in John King Fairbank, ed., The Cambridge History of China: Republican China 1912–1949, Part 1 (Cambridge University Press, 1983; ISBN 0-521-23541-3, ISBN 978-0-521-23541-9), p. 228.\n",
      "^ Ranter, Harro. \"ASN Aircraft accident Ilyushin Il-18V OK-PAF Casablanca-Anfa Airport (CAS)\". aviation-safety.net. Aviation Safety Network. Retrieved 2021-07-11.\n",
      "^ Ronghui Lin (2003). \"Predictions and Social Response Capacities in Face of the 1995 Menglian Earthquake (M = 7.3): An Overview\". Early Warning Systems for Natural Disaster Reduction. Springer, Berlin, Heidelberg: 481-486. doi:10.1007/978-3-642-55903-7_63. ISBN 978-3-642-63234-1.\n",
      "^ Warnock, Lynda. \"STS-104\". www.nasa.gov. NASA. Retrieved 2021-07-06.\n",
      "^ Alexander, David (April 5, 2010). \"Leaked U.S. video shows deaths of Reuters' Iraqi staffers\". Reuters. Archived from the original on September 9, 2012. Retrieved April 7, 2010.\n",
      "^ Morris, Loveday; Vela, Justin (16 July 2012). \"Assad troops move on Damascus as massacre toll is cut\". The Independent. London. Retrieved 18 July 2012.\n",
      "^ Welle (www.dw.com), Deutsche. \"Nigeria fuel tanker explosion kills at least 95 | DW | 12.07.2012\". DW.COM. Retrieved 2021-07-13.\n",
      "^ \"Operations begin to clear wreckage of derailed train near Paris\". France 24. 14 July 2013. Retrieved 14 July 2013.\n",
      "^ There is some dispute over the year of Caesar's birth. Some scholars have made a case for 101 or 102 BC as the year of his birth, based on the dates that he held certain magistracies, but scholarly consensus favors 100 BC. Similarly, some scholars prefer 12 July for the day of his birth, but others give 13 July. Goldsworthy, p. 30, Ward, Heichelheim, & Yeo p. 194. For a source arguing for 12 July, see Badian in Griffin (ed.) p.16\n",
      "^ Juan Del Encina: Aesthetics of His Poetry. University of California. 1967.\n",
      "^ Clive Maples Warner (1938). The Life of Jacopo Sadoleto ... Stanford University. p. 9.\n",
      "^ Arthur Collins (1741). The Peerage of England; containing a genealogical and historical account of all the peers of England. W. Innys; R. Manby; T. Wotton&F. Gosling. p. 19.\n",
      "^ \"Congressional Bioguide\". Saunders, Alvin. Retrieved July 26, 2019.\n",
      "^ Sharp, Jane A. (2000). \"Natalia Goncharova\". In Bowlt, John E.; Drutt, Matthew (eds.). Amazons of the Avant-Garde: Alexandra Exter, Natalia Goncharova, Liubov Popova, Olga Rozanova, Varvara Stepanova, and Nadezhda Udaltsova. New York: Guggenheim Museum. p. 155. ISBN 978-0-89207-225-5.\n",
      "^ \"Janiszewski Zygmunt\". Astro-Databank. Retrieved 13 November 2021.\n",
      "^ \"Guy Ligier\".\n",
      "^ \"Jake Wood on TV.com\". TV.com. Retrieved 8 December 2010.\n",
      "^ \"18 Jason Wright\". nusports.cstv.com. Archived from the original on November 18, 2010. Retrieved December 19, 2020.\n",
      "^ \"Late Night with Seth Meyers Podcast\". rss.art19.com. Retrieved January 7, 2019.\n",
      "^ \"Vani Pelite Results | Commonwealth Games Australia\". commonwealthgames.com.au. 3 April 2018. Retrieved 13 February 2021.\n",
      "^ \"Jordyn Wieber\". USA Gymnastics. Retrieved 12 July 2020.\n",
      "^ Jennifer Strand (15 August 2016). Malala Yousafzai. ABDO. p. 20. ISBN 978-1-68079-390-1.\n",
      "^ \"Vinicius José Paixão de Oliveira Júnior LaLiga Santander\".\n",
      "^ Xu Zizhi Tongjian Changbian, ch. 22.\n",
      "^ \"Robert Stevenson (1772-1850)\". National Records of Scotland. 31 May 2013. Retrieved 13 February 2021.\n",
      "^ Dunn, Elwood D.; Beyan, Amos J.; Burrowes, Carl Patrick (2000). Historical Dictionary of Liberia. Lanham, Maryland: Scarecrow Press. pp. 80–81.\n",
      "^ \"Charles Stewart Rolls | British automobile manufacturer and aviator\". Encyclopedia Britannica. Retrieved 13 July 2021.\n",
      "^ Brothers, Barbara; Gergits, Julia Marie (1997). British Travel Writers, 1876–1909. Detroit: Gale Research. p. 3. ISBN 978-0-81039-937-2.\n",
      "^ Crowe-Grande, Trish (August 9, 2020). \"Exploring the early years of Newmarket literary icon Mazo de la Roche\". NewmarketToday.ca. Retrieved 28 June 2021.\n",
      "^ Allotey, Emma (2012). \"Morris, Olive Elaine (1952–1979), political activist\". Oxford Dictionary of National Biography (online ed.). Oxford University Press. doi:10.1093/ref:odnb/100963. Retrieved 26 June 2020. (Subscription or UK public library membership required.)\n",
      "^ \"Obituary: Professor Eila Campbell\". The Independent. 26 July 1994. Retrieved 9 January 2020.\n",
      "^ \"Dara Singh Passes Away\". The Times of India. 12 July 2012. Retrieved 2016-04-01.\n",
      "^ \"Elaine Morgan obituary\". The Guardian. 29 July 2013. Retrieved 21 January 2020.\n",
      "^ \"YouTube Star Emily Hartridge Dies at 35 in Electric Scooter Collision\". PEOPLE.com. Archived from the original on 2020-03-07. Retrieved 2021-07-13.\n",
      "^ Alexander, Bryan (July 13, 2020). \"'Jerry Maguire' actress Kelly Preston, wife of John Travolta, dies of breast cancer at 57\". USA TODAY. Archived from the original on July 14, 2020. Retrieved June 5, 2021.\n",
      "^ \"Suurbier, mainstay of Ajax, Dutch teams of 1970s, dies at 75\". The Seattle Times. 2020-07-13. Archived from the original on 2021-07-03. Retrieved 2021-07-03.\n",
      "External links[edit]\n",
      "Wikimedia Commons has media related to July 12.\n",
      "\"On This Day\". BBC.\n",
      "The New York Times: On This Day\n",
      "\"Historical Events on July 12\". OnThisDay.com.\n",
      "\"Today in Canadian History\". Canada Channel.\n",
      "hide\n",
      "vte\n",
      "Months and days of the year\n",
      "Today: October 26, 2022 [refresh]\n",
      "January\n",
      "1 2 3 4 5 6 7 8 9 10 11 12 13 14 15 16 17 18 19 20 21 22 23 24 25 26 27 28 29 30 31\n",
      "February\n",
      "1 2 3 4 5 6 7 8 9 10 11 12 13 14 15 16 17 18 19 20 21 22 23 24 25 26 27 28 29\n",
      "March\n",
      "1 2 3 4 5 6 7 8 9 10 11 12 13 14 15 16 17 18 19 20 21 22 23 24 25 26 27 28 29 30 31\n",
      "April\n",
      "1 2 3 4 5 6 7 8 9 10 11 12 13 14 15 16 17 18 19 20 21 22 23 24 25 26 27 28 29 30\n",
      "May\n",
      "1 2 3 4 5 6 7 8 9 10 11 12 13 14 15 16 17 18 19 20 21 22 23 24 25 26 27 28 29 30 31\n",
      "June\n",
      "1 2 3 4 5 6 7 8 9 10 11 12 13 14 15 16 17 18 19 20 21 22 23 24 25 26 27 28 29 30\n",
      "July\n",
      "1 2 3 4 5 6 7 8 9 10 11 12 13 14 15 16 17 18 19 20 21 22 23 24 25 26 27 28 29 30 31\n",
      "August\n",
      "1 2 3 4 5 6 7 8 9 10 11 12 13 14 15 16 17 18 19 20 21 22 23 24 25 26 27 28 29 30 31\n",
      "September\n",
      "1 2 3 4 5 6 7 8 9 10 11 12 13 14 15 16 17 18 19 20 21 22 23 24 25 26 27 28 29 30\n",
      "October\n",
      "1 2 3 4 5 6 7 8 9 10 11 12 13 14 15 16 17 18 19 20 21 22 23 24 25 26 27 28 29 30 31\n",
      "November\n",
      "1 2 3 4 5 6 7 8 9 10 11 12 13 14 15 16 17 18 19 20 21 22 23 24 25 26 27 28 29 30\n",
      "December\n",
      "1 2 3 4 5 6 7 8 9 10 11 12 13 14 15 16 17 18 19 20 21 22 23 24 25 26 27 28 29 30 31\n",
      "Related: List of non-standard dates\n",
      "Categories: Days of the yearJuly\n"
     ]
    }
   ],
   "source": [
    "from selenium.webdriver.common.by import By\n",
    "element=driver.find_element(By.ID,'content')\n",
    "print(element)\n",
    "print(element.text)"
   ]
  },
  {
   "cell_type": "code",
   "execution_count": 73,
   "metadata": {},
   "outputs": [
    {
     "name": "stdout",
     "output_type": "stream",
     "text": [
      "<selenium.webdriver.remote.webelement.WebElement (session=\"6342cdf6ed0a0f15d8d1dae5efd30ec2\", element=\"cb7a31b3-912a-415e-9c77-290fa2362687\")>\n",
      "Events\n"
     ]
    }
   ],
   "source": [
    "element=driver.find_element(By.ID,'Events')\n",
    "print(element)\n",
    "print(element.text)"
   ]
  },
  {
   "cell_type": "code",
   "execution_count": 74,
   "metadata": {},
   "outputs": [
    {
     "name": "stdout",
     "output_type": "stream",
     "text": [
      "Success.\n",
      "Success. File saved as a JSON!\n"
     ]
    }
   ],
   "source": [
    "caths = ['Events','Births','Deaths']\n",
    "data=[]\n",
    "cath_index=0\n",
    "last_year=-10e10\n",
    "for element in driver.find_elements(By.TAG_NAME,'li'):\n",
    "    try:\n",
    "        text=element.text\n",
    "        if ' – '  in text:\n",
    "            text_split = text.split(' – ')\n",
    "            year = text_split[0]\n",
    "            year = -int(year[:year.find(' ')]) if 'BC' in year else int(year)\n",
    "            person = text_split[1].split(',')[0]\n",
    "            discription = text_split[1].split(',')[1]\n",
    "            json_file = {\"Year\": year , \n",
    "                         \"Person\": person , \n",
    "                         \"Description\": discription}\n",
    "\n",
    "            if year<last_year-1000:\n",
    "                cath_index+=1\n",
    "            \n",
    "            last_year=year\n",
    "            if caths[cath_index]=='Births':\n",
    "                data.append(json_file)\n",
    "            \n",
    "    except Exception as e:\n",
    "        pass\n",
    "print(\"Success.\")\n",
    "json.dump(data,open(date+\".json\",'w'))\n",
    "print(\"Success. File saved as a JSON!\")"
   ]
  },
  {
   "cell_type": "markdown",
   "metadata": {},
   "source": [
    "#Done"
   ]
  }
 ],
 "metadata": {
  "kernelspec": {
   "display_name": "Python 3 (ipykernel)",
   "language": "python",
   "name": "python3"
  },
  "language_info": {
   "codemirror_mode": {
    "name": "ipython",
    "version": 3
   },
   "file_extension": ".py",
   "mimetype": "text/x-python",
   "name": "python",
   "nbconvert_exporter": "python",
   "pygments_lexer": "ipython3",
   "version": "3.9.13"
  }
 },
 "nbformat": 4,
 "nbformat_minor": 1
}
